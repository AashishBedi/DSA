{
 "cells": [
  {
   "cell_type": "markdown",
   "id": "f98528b4",
   "metadata": {},
   "source": [
    "# Using Linked List"
   ]
  },
  {
   "cell_type": "code",
   "execution_count": null,
   "id": "b9fa7613",
   "metadata": {},
   "outputs": [],
   "source": [
    "class Node(self,item = None, priority = None, next = None):\n",
    "    self.item = item\n",
    "    self.priority = priority\n",
    "    self.next = next\n",
    "    \n",
    "class PriorityQueue:\n",
    "    def __init__(self):\n",
    "        self.start = None\n",
    "        self.item_count = 0\n",
    "        \n",
    "    def is_empty(self):\n",
    "        return self.start == 0\n",
    "    \n",
    "    def push(self,data,priority):\n",
    "        n = Node(data,priority)   #next is not given so it is none by default\n",
    "        if not self.start or priority < self.start.priority:\n",
    "            n.next = self.start\n",
    "            self.start = n\n",
    "        else:\n",
    "            current = self.start\n",
    "            while current.next is not None and current.next.priority <= priority:\n",
    "                current = current.next\n",
    "            n.next = current.next\n",
    "            current.next = n\n",
    "        self.item_count += 1\n",
    "            \n",
    "    def pop(self):\n",
    "        if self.is_empty():\n",
    "            raise IndexError(\"Queue empty\")\n",
    "        data = self.start.item\n",
    "        self.start = self.start.next\n",
    "        self.item_count -= 1\n",
    "        return data\n",
    "    \n",
    "    def size(self):\n",
    "        return self.item_count\n",
    "    \n",
    "pq = PriorityQueue()\n",
    "pq = PriorityQueue()\n",
    "pq.push(\"Aa\",2)\n",
    "pq.push(\"Ar\",4)\n",
    "pq.push(\"Ab\",3)\n",
    "pq.push(\"Bb\",1)\n",
    "\n",
    "while not pq.is_empty():\n",
    "    print(pq.pop())\n",
    "    "
   ]
  }
 ],
 "metadata": {
  "kernelspec": {
   "display_name": "Python 3 (ipykernel)",
   "language": "python",
   "name": "python3"
  },
  "language_info": {
   "codemirror_mode": {
    "name": "ipython",
    "version": 3
   },
   "file_extension": ".py",
   "mimetype": "text/x-python",
   "name": "python",
   "nbconvert_exporter": "python",
   "pygments_lexer": "ipython3",
   "version": "3.11.5"
  }
 },
 "nbformat": 4,
 "nbformat_minor": 5
}
