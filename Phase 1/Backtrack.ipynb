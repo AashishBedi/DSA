{
 "cells": [
  {
   "cell_type": "code",
   "execution_count": null,
   "id": "f81040da",
   "metadata": {},
   "outputs": [],
   "source": [
    "class Solution:\n",
    "    def subsets(self, nums: List[int]) -> List[List[int]]:\n",
    "        n = len(nums)\n",
    "        res,sol = [], []\n",
    "\n",
    "        def backtrack(i):\n",
    "            if i == n:\n",
    "                res.append(sol[:])\n",
    "                return\n",
    "            #Don't pick nums[i]\n",
    "            backtrack(i+1)\n",
    "            #Pick\n",
    "            sol.append(nums[i])\n",
    "            backtrack(i+1)\n",
    "            sol.pop()\n",
    "        backtrack(0)\n",
    "        return res"
   ]
  }
 ],
 "metadata": {
  "kernelspec": {
   "display_name": "Python 3 (ipykernel)",
   "language": "python",
   "name": "python3"
  },
  "language_info": {
   "codemirror_mode": {
    "name": "ipython",
    "version": 3
   },
   "file_extension": ".py",
   "mimetype": "text/x-python",
   "name": "python",
   "nbconvert_exporter": "python",
   "pygments_lexer": "ipython3",
   "version": "3.11.5"
  }
 },
 "nbformat": 4,
 "nbformat_minor": 5
}
