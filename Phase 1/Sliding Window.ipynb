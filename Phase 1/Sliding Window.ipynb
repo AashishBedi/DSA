{
 "cells": [
  {
   "cell_type": "markdown",
   "id": "78ffe34c",
   "metadata": {},
   "source": [
    "# Variable Sliding Window"
   ]
  },
  {
   "cell_type": "code",
   "execution_count": null,
   "id": "7ea1525c",
   "metadata": {},
   "outputs": [],
   "source": [
    "class Solution:\n",
    "    def lengthOfLongestSubstring(self, s: str) -> int:\n",
    "        l = 0\n",
    "        sett = set()\n",
    "        longest = 0\n",
    "\n",
    "        for r in range(len(s)):\n",
    "            while s[r] in sett:\n",
    "                sett.remove(s[l])\n",
    "                l += 1\n",
    "            longest = max(longest, r-l+1)\n",
    "            sett.add(s[r])\n",
    "        return longest"
   ]
  },
  {
   "cell_type": "markdown",
   "id": "d17427d3",
   "metadata": {},
   "source": [
    "# Fixed size Sliding Window"
   ]
  },
  {
   "cell_type": "code",
   "execution_count": null,
   "id": "44deb241",
   "metadata": {},
   "outputs": [],
   "source": [
    "class Solution:\n",
    "    def findMaxAverage(self, nums: List[int], k: int) -> float:\n",
    "        n = len(nums)\n",
    "        curr_sum = 0\n",
    "\n",
    "        for i in range(k):\n",
    "            curr_sum += nums[i]\n",
    "        max_avg = curr_sum/k\n",
    "\n",
    "        for i in range(k,n):\n",
    "            curr_sum += nums[i]\n",
    "            curr_sum -= nums[i-k]\n",
    "\n",
    "            avg = curr_sum/k\n",
    "            max_avg = max(max_avg, avg)\n",
    "        return max_avg"
   ]
  }
 ],
 "metadata": {
  "kernelspec": {
   "display_name": "Python 3 (ipykernel)",
   "language": "python",
   "name": "python3"
  },
  "language_info": {
   "codemirror_mode": {
    "name": "ipython",
    "version": 3
   },
   "file_extension": ".py",
   "mimetype": "text/x-python",
   "name": "python",
   "nbconvert_exporter": "python",
   "pygments_lexer": "ipython3",
   "version": "3.11.5"
  }
 },
 "nbformat": 4,
 "nbformat_minor": 5
}
