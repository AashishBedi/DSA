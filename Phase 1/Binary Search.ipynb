{
 "cells": [
  {
   "cell_type": "code",
   "execution_count": 2,
   "id": "db2cd2d6",
   "metadata": {},
   "outputs": [
    {
     "name": "stdout",
     "output_type": "stream",
     "text": [
      "True\n"
     ]
    }
   ],
   "source": [
    "A = [-3,-1,0,1,4,7]\n",
    "\n",
    "#Naive O(n) in searching\n",
    "if 4 in A:\n",
    "    print(True)"
   ]
  },
  {
   "cell_type": "code",
   "execution_count": 3,
   "id": "b166a09e",
   "metadata": {},
   "outputs": [],
   "source": [
    "#Traditional Binary Search - Looking up if number is in array:\n",
    "#Time: O(log n)\n",
    "#Space: O(1)\n",
    "def binary_search(arr, target):\n",
    "    n = len(arr)\n",
    "    l = 0\n",
    "    r = n-1\n",
    "    while l < r:\n",
    "        m = l + ((r-l)//2)\n",
    "        if arr[m] == target:\n",
    "            return True\n",
    "        elif target< arr[m]:\n",
    "            r = m-1\n",
    "        else:\n",
    "            l = m+1\n",
    "    return False"
   ]
  },
  {
   "cell_type": "code",
   "execution_count": 4,
   "id": "178eb01d",
   "metadata": {},
   "outputs": [
    {
     "data": {
      "text/plain": [
       "True"
      ]
     },
     "execution_count": 4,
     "metadata": {},
     "output_type": "execute_result"
    }
   ],
   "source": [
    "binary_search(A,4)"
   ]
  },
  {
   "cell_type": "code",
   "execution_count": 5,
   "id": "f71c0553",
   "metadata": {},
   "outputs": [
    {
     "data": {
      "text/plain": [
       "False"
      ]
     },
     "execution_count": 5,
     "metadata": {},
     "output_type": "execute_result"
    }
   ],
   "source": [
    "binary_search(A,9)"
   ]
  },
  {
   "cell_type": "code",
   "execution_count": 8,
   "id": "4c3724a2",
   "metadata": {},
   "outputs": [],
   "source": [
    "#Condition based\n",
    "B = [True, False, False, True, True, True, True]\n",
    "def binary_search(arr):\n",
    "    n = len(arr)\n",
    "    l = 0\n",
    "    r = n-1\n",
    "    while l < r:\n",
    "        m = l + ((r-l)//2)\n",
    "        if B[m]:\n",
    "            r = m\n",
    "        else:\n",
    "            l = m+1\n",
    "    return l"
   ]
  },
  {
   "cell_type": "code",
   "execution_count": 9,
   "id": "8fc5d7be",
   "metadata": {},
   "outputs": [
    {
     "data": {
      "text/plain": [
       "3"
      ]
     },
     "execution_count": 9,
     "metadata": {},
     "output_type": "execute_result"
    }
   ],
   "source": [
    "binary_search(B)"
   ]
  },
  {
   "cell_type": "code",
   "execution_count": null,
   "id": "9f48912c",
   "metadata": {},
   "outputs": [],
   "source": []
  }
 ],
 "metadata": {
  "kernelspec": {
   "display_name": "Python 3 (ipykernel)",
   "language": "python",
   "name": "python3"
  },
  "language_info": {
   "codemirror_mode": {
    "name": "ipython",
    "version": 3
   },
   "file_extension": ".py",
   "mimetype": "text/x-python",
   "name": "python",
   "nbconvert_exporter": "python",
   "pygments_lexer": "ipython3",
   "version": "3.11.5"
  }
 },
 "nbformat": 4,
 "nbformat_minor": 5
}
