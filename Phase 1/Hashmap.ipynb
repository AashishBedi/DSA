{
 "cells": [
  {
   "cell_type": "markdown",
   "id": "39954543",
   "metadata": {},
   "source": [
    "# HashSet\n"
   ]
  },
  {
   "cell_type": "code",
   "execution_count": 4,
   "id": "8b9320f5",
   "metadata": {},
   "outputs": [
    {
     "name": "stdout",
     "output_type": "stream",
     "text": [
      "{1, 2, 3}\n"
     ]
    }
   ],
   "source": [
    "s = set()\n",
    "print(s)"
   ]
  },
  {
   "cell_type": "code",
   "execution_count": null,
   "id": "9b7e0843",
   "metadata": {},
   "outputs": [],
   "source": [
    "s.add(1)\n",
    "s.add(2)\n",
    "s.add(3)\n",
    "print(s)"
   ]
  },
  {
   "cell_type": "code",
   "execution_count": 6,
   "id": "c0d50482",
   "metadata": {},
   "outputs": [
    {
     "name": "stdout",
     "output_type": "stream",
     "text": [
      "True\n"
     ]
    }
   ],
   "source": [
    "if 6 not in s:\n",
    "    print(True)"
   ]
  },
  {
   "cell_type": "code",
   "execution_count": 7,
   "id": "b511345d",
   "metadata": {},
   "outputs": [
    {
     "name": "stdout",
     "output_type": "stream",
     "text": [
      "{1, 3}\n"
     ]
    }
   ],
   "source": [
    "s.remove(2)\n",
    "print(s)"
   ]
  },
  {
   "cell_type": "code",
   "execution_count": 8,
   "id": "1a26ee82",
   "metadata": {},
   "outputs": [
    {
     "name": "stdout",
     "output_type": "stream",
     "text": [
      "1\n",
      "3\n"
     ]
    }
   ],
   "source": [
    "for x in s:\n",
    "    print(x)"
   ]
  },
  {
   "cell_type": "markdown",
   "id": "d72f6db6",
   "metadata": {},
   "source": [
    "# Hashmaps- Dictionaries"
   ]
  },
  {
   "cell_type": "code",
   "execution_count": 9,
   "id": "fbea50e4",
   "metadata": {},
   "outputs": [
    {
     "name": "stdout",
     "output_type": "stream",
     "text": [
      "{'greg': 1, 'steve': 2, 'rob': 3}\n"
     ]
    }
   ],
   "source": [
    "d = {'greg':1, 'steve':2, 'rob': 3}\n",
    "print(d)"
   ]
  },
  {
   "cell_type": "code",
   "execution_count": 11,
   "id": "29aa8cab",
   "metadata": {},
   "outputs": [
    {
     "name": "stdout",
     "output_type": "stream",
     "text": [
      "{'greg': 1, 'steve': 2, 'rob': 3, 'arsh': 4}\n"
     ]
    }
   ],
   "source": [
    "#Add key:val in dictionary\n",
    "d['arsh'] = 4\n",
    "print(d)"
   ]
  },
  {
   "cell_type": "code",
   "execution_count": 12,
   "id": "9db6391d",
   "metadata": {},
   "outputs": [
    {
     "name": "stdout",
     "output_type": "stream",
     "text": [
      "False\n"
     ]
    }
   ],
   "source": [
    "#LookUp in dictionary\n",
    "if 'greg' not in d:\n",
    "    print(True)\n",
    "else:\n",
    "    print(False)"
   ]
  },
  {
   "cell_type": "code",
   "execution_count": 13,
   "id": "5e015c80",
   "metadata": {},
   "outputs": [
    {
     "name": "stdout",
     "output_type": "stream",
     "text": [
      "1\n"
     ]
    }
   ],
   "source": [
    "#Check value corresponding to a key in dictionary\n",
    "print(d['greg'])"
   ]
  },
  {
   "cell_type": "code",
   "execution_count": 14,
   "id": "357211c5",
   "metadata": {},
   "outputs": [
    {
     "name": "stdout",
     "output_type": "stream",
     "text": [
      "key greg: val 1\n",
      "key steve: val 2\n",
      "key rob: val 3\n",
      "key arsh: val 4\n"
     ]
    }
   ],
   "source": [
    "#To loop over key:val pair\n",
    "for key,val in d.items():\n",
    "    print(f'key {key}: val {val}')"
   ]
  },
  {
   "cell_type": "code",
   "execution_count": 15,
   "id": "201dad3c",
   "metadata": {},
   "outputs": [
    {
     "data": {
      "text/plain": [
       "0"
      ]
     },
     "execution_count": 15,
     "metadata": {},
     "output_type": "execute_result"
    }
   ],
   "source": [
    "from collections import defaultdict\n",
    "default = defaultdict(int)\n",
    "default[2]"
   ]
  },
  {
   "cell_type": "code",
   "execution_count": 16,
   "id": "4ee11928",
   "metadata": {},
   "outputs": [
    {
     "data": {
      "text/plain": [
       "defaultdict(int, {2: 0})"
      ]
     },
     "execution_count": 16,
     "metadata": {},
     "output_type": "execute_result"
    }
   ],
   "source": [
    "default"
   ]
  },
  {
   "cell_type": "code",
   "execution_count": 17,
   "id": "d1621f12",
   "metadata": {},
   "outputs": [
    {
     "name": "stdout",
     "output_type": "stream",
     "text": [
      "Counter({'f': 5, 'j': 5, 'k': 4, 'h': 3, 'd': 2, 'b': 1})\n"
     ]
    }
   ],
   "source": [
    "#Counter\n",
    "st = 'fkjdhfjkjfbkjhfdkjhf'\n",
    "from collections import Counter\n",
    "cnt = Counter(st)\n",
    "print(cnt)"
   ]
  },
  {
   "cell_type": "code",
   "execution_count": null,
   "id": "b148f168",
   "metadata": {},
   "outputs": [],
   "source": []
  }
 ],
 "metadata": {
  "kernelspec": {
   "display_name": "Python 3 (ipykernel)",
   "language": "python",
   "name": "python3"
  },
  "language_info": {
   "codemirror_mode": {
    "name": "ipython",
    "version": 3
   },
   "file_extension": ".py",
   "mimetype": "text/x-python",
   "name": "python",
   "nbconvert_exporter": "python",
   "pygments_lexer": "ipython3",
   "version": "3.11.5"
  }
 },
 "nbformat": 4,
 "nbformat_minor": 5
}
