{
 "cells": [
  {
   "cell_type": "markdown",
   "id": "3b99cc6c",
   "metadata": {},
   "source": [
    "# Singly Linked List"
   ]
  },
  {
   "cell_type": "code",
   "execution_count": 6,
   "id": "7475f89b",
   "metadata": {},
   "outputs": [],
   "source": [
    "class SLL:\n",
    "    def __init__(self, val, next=None):\n",
    "        self.val = val\n",
    "        self.next= next\n",
    "    def __str__(self):\n",
    "        return str(self.val)"
   ]
  },
  {
   "cell_type": "code",
   "execution_count": 7,
   "id": "120a271d",
   "metadata": {},
   "outputs": [],
   "source": [
    "Head = SLL(1)\n",
    "A = SLL(3)\n",
    "B = SLL(4)\n",
    "C = SLL(7)\n",
    "\n",
    "Head.next = A\n",
    "A.next = B\n",
    "B.next = C"
   ]
  },
  {
   "cell_type": "code",
   "execution_count": 8,
   "id": "95de0335",
   "metadata": {},
   "outputs": [
    {
     "name": "stdout",
     "output_type": "stream",
     "text": [
      "1\n"
     ]
    }
   ],
   "source": [
    "print(Head)"
   ]
  },
  {
   "cell_type": "code",
   "execution_count": 9,
   "id": "f7cbfde3",
   "metadata": {},
   "outputs": [
    {
     "name": "stdout",
     "output_type": "stream",
     "text": [
      "1\n",
      "3\n",
      "4\n",
      "7\n"
     ]
    }
   ],
   "source": [
    "#Traverse the list - O(n)\n",
    "curr = Head\n",
    "while curr:\n",
    "    print(curr)\n",
    "    curr = curr.next"
   ]
  },
  {
   "cell_type": "code",
   "execution_count": 10,
   "id": "c295c8c8",
   "metadata": {},
   "outputs": [
    {
     "name": "stdout",
     "output_type": "stream",
     "text": [
      "1 -> 3 -> 4 -> 7\n"
     ]
    }
   ],
   "source": [
    "#Display the linked list\n",
    "def display(head):\n",
    "    curr = head\n",
    "    elements = []\n",
    "    while curr:\n",
    "        elements.append(str(curr.val))\n",
    "        curr = curr.next\n",
    "    print(' -> '.join(elements))\n",
    "display(Head)"
   ]
  },
  {
   "cell_type": "code",
   "execution_count": 11,
   "id": "4549a49e",
   "metadata": {},
   "outputs": [],
   "source": [
    "#Search the node value- O(n)\n",
    "def search(head, val):\n",
    "    curr = head\n",
    "    while curr:\n",
    "        if val == curr.val:\n",
    "            return True\n",
    "        curr = curr.next\n",
    "    return False"
   ]
  },
  {
   "cell_type": "code",
   "execution_count": 12,
   "id": "9968fc6e",
   "metadata": {},
   "outputs": [
    {
     "data": {
      "text/plain": [
       "False"
      ]
     },
     "execution_count": 12,
     "metadata": {},
     "output_type": "execute_result"
    }
   ],
   "source": [
    "search(Head, 2)"
   ]
  },
  {
   "cell_type": "code",
   "execution_count": 13,
   "id": "7f2b0542",
   "metadata": {},
   "outputs": [
    {
     "data": {
      "text/plain": [
       "True"
      ]
     },
     "execution_count": 13,
     "metadata": {},
     "output_type": "execute_result"
    }
   ],
   "source": [
    "search(Head, 4)"
   ]
  },
  {
   "cell_type": "markdown",
   "id": "9c5c028c",
   "metadata": {},
   "source": [
    "# Doubly Linked List"
   ]
  },
  {
   "cell_type": "code",
   "execution_count": 14,
   "id": "ff1a4256",
   "metadata": {},
   "outputs": [],
   "source": [
    "class DLL:\n",
    "    def __init__(self, val, next= None, prev= None):\n",
    "        self.val = val\n",
    "        self.next= next\n",
    "        self.prev= prev\n",
    "    def __str__(self):\n",
    "        return str(self.val)"
   ]
  },
  {
   "cell_type": "code",
   "execution_count": 15,
   "id": "ac7b91e0",
   "metadata": {},
   "outputs": [
    {
     "name": "stdout",
     "output_type": "stream",
     "text": [
      "1\n"
     ]
    }
   ],
   "source": [
    "head = tail = DLL(1)\n",
    "print(tail)"
   ]
  },
  {
   "cell_type": "code",
   "execution_count": 16,
   "id": "26080141",
   "metadata": {},
   "outputs": [
    {
     "name": "stdout",
     "output_type": "stream",
     "text": [
      "1 <-> 3 <-> 4 <-> 7\n"
     ]
    }
   ],
   "source": [
    "#Display- O(n)\n",
    "def display(head):\n",
    "    curr = head\n",
    "    elements = []\n",
    "    while curr:\n",
    "        elements.append(str(curr.val))\n",
    "        curr = curr.next\n",
    "    print(' <-> '.join(elements))\n",
    "display(Head)"
   ]
  },
  {
   "cell_type": "code",
   "execution_count": 17,
   "id": "192ef4f4",
   "metadata": {},
   "outputs": [
    {
     "name": "stdout",
     "output_type": "stream",
     "text": [
      "3 <-> 1\n"
     ]
    }
   ],
   "source": [
    "#Insert at beginning - O(1)\n",
    "def insert_at_beginning(head, tail, val):\n",
    "    new_node = DLL(val, next=head)\n",
    "    head.prev = new_node\n",
    "    return new_node, tail\n",
    "head,tail = insert_at_beginning(head, tail,3)\n",
    "display(head)"
   ]
  },
  {
   "cell_type": "code",
   "execution_count": null,
   "id": "98cbce21",
   "metadata": {},
   "outputs": [],
   "source": [
    "#Insert at end - O(1)\n",
    "def insert_at_end(head, tail, val):\n",
    "    new_node = DLL(val, prev=tail)\n",
    "    tail.next = new_node\n",
    "    return head, new_node\n",
    "head,tail = insert_at_end(head, tail,3)\n",
    "display(head)"
   ]
  }
 ],
 "metadata": {
  "kernelspec": {
   "display_name": "Python 3 (ipykernel)",
   "language": "python",
   "name": "python3"
  },
  "language_info": {
   "codemirror_mode": {
    "name": "ipython",
    "version": 3
   },
   "file_extension": ".py",
   "mimetype": "text/x-python",
   "name": "python",
   "nbconvert_exporter": "python",
   "pygments_lexer": "ipython3",
   "version": "3.11.5"
  }
 },
 "nbformat": 4,
 "nbformat_minor": 5
}
