{
 "cells": [
  {
   "cell_type": "markdown",
   "id": "f0464dfb",
   "metadata": {},
   "source": [
    "# Build Min Heap(Heapify)\n",
    "#Time: O(n), Space: O(1)"
   ]
  },
  {
   "cell_type": "code",
   "execution_count": 1,
   "id": "76a6d00e",
   "metadata": {},
   "outputs": [],
   "source": [
    "A = [-4,3,1,0,2,5,10,8,12,9]"
   ]
  },
  {
   "cell_type": "code",
   "execution_count": 3,
   "id": "288ebf2e",
   "metadata": {},
   "outputs": [],
   "source": [
    "import heapq\n",
    "heapq.heapify(A)"
   ]
  },
  {
   "cell_type": "code",
   "execution_count": 4,
   "id": "6ca7faf9",
   "metadata": {},
   "outputs": [
    {
     "data": {
      "text/plain": [
       "[-4, 0, 1, 3, 2, 5, 10, 8, 12, 9]"
      ]
     },
     "execution_count": 4,
     "metadata": {},
     "output_type": "execute_result"
    }
   ],
   "source": [
    "A"
   ]
  },
  {
   "cell_type": "markdown",
   "id": "bffd5865",
   "metadata": {},
   "source": [
    "# Heap Push(Insert element)\n",
    "#Time: O(log n)"
   ]
  },
  {
   "cell_type": "code",
   "execution_count": 5,
   "id": "7e71cd89",
   "metadata": {},
   "outputs": [],
   "source": [
    "heapq.heappush(A, 4)"
   ]
  },
  {
   "cell_type": "code",
   "execution_count": 6,
   "id": "a5a5dc81",
   "metadata": {},
   "outputs": [
    {
     "data": {
      "text/plain": [
       "[-4, 0, 1, 3, 2, 5, 10, 8, 12, 9, 4]"
      ]
     },
     "execution_count": 6,
     "metadata": {},
     "output_type": "execute_result"
    }
   ],
   "source": [
    "A"
   ]
  },
  {
   "cell_type": "markdown",
   "id": "f9c170e9",
   "metadata": {},
   "source": [
    "# Heap Pop (Extract min)\n",
    "#Time: O(log n)"
   ]
  },
  {
   "cell_type": "code",
   "execution_count": 7,
   "id": "7d059b02",
   "metadata": {},
   "outputs": [
    {
     "data": {
      "text/plain": [
       "([0, 2, 1, 3, 4, 5, 10, 8, 12, 9], -4)"
      ]
     },
     "execution_count": 7,
     "metadata": {},
     "output_type": "execute_result"
    }
   ],
   "source": [
    "minn = heapq.heappop(A)\n",
    "A,minn"
   ]
  },
  {
   "cell_type": "markdown",
   "id": "b35ec8a6",
   "metadata": {},
   "source": [
    "# Heap Sort\n",
    "#Time: O(n log n), Space: O(n)\n",
    "#Note: O(1) Space is possible via  swapping, but this is complex"
   ]
  },
  {
   "cell_type": "code",
   "execution_count": 8,
   "id": "ad03bf44",
   "metadata": {},
   "outputs": [
    {
     "data": {
      "text/plain": [
       "[0, 1, 2, 3, 4, 5, 6, 7, 8, 9]"
      ]
     },
     "execution_count": 8,
     "metadata": {},
     "output_type": "execute_result"
    }
   ],
   "source": [
    "def heapsort(arr):\n",
    "    heapq.heapify(arr)\n",
    "    n = len(arr)\n",
    "    new_list = [0]*n\n",
    "    \n",
    "    for i in range(n):\n",
    "        minn = heapq.heappop(arr)\n",
    "        new_list[i] = minn\n",
    "    return new_list\n",
    "\n",
    "heapsort([1,3,5,7,9,2,4,6,8,0])"
   ]
  },
  {
   "cell_type": "code",
   "execution_count": 9,
   "id": "b414ecd0",
   "metadata": {},
   "outputs": [
    {
     "data": {
      "text/plain": [
       "[1, 2, 5, 3, 4, 99, 10, 8, 12, 9]"
      ]
     },
     "execution_count": 9,
     "metadata": {},
     "output_type": "execute_result"
    }
   ],
   "source": [
    "#Heap Push Pop: Time: O(log n)\n",
    "heapq.heappushpop(A, 99)\n",
    "A"
   ]
  },
  {
   "cell_type": "code",
   "execution_count": 13,
   "id": "3d1b993c",
   "metadata": {},
   "outputs": [
    {
     "data": {
      "text/plain": [
       "1"
      ]
     },
     "execution_count": 13,
     "metadata": {},
     "output_type": "execute_result"
    }
   ],
   "source": [
    "#Peek at Min: Time O(1)\n",
    "A[0]"
   ]
  },
  {
   "cell_type": "markdown",
   "id": "68ec2960",
   "metadata": {},
   "source": [
    "# Max Heap"
   ]
  },
  {
   "cell_type": "code",
   "execution_count": 10,
   "id": "efbfcec9",
   "metadata": {},
   "outputs": [
    {
     "data": {
      "text/plain": [
       "[-12, -9, -10, -8, -2, -5, -1, -3, 0, 4]"
      ]
     },
     "execution_count": 10,
     "metadata": {},
     "output_type": "execute_result"
    }
   ],
   "source": [
    "B = [-4,3,1,0,2,5,10,8,12,9]\n",
    "n = len(B)\n",
    "\n",
    "for i in range(n):\n",
    "    B[i] = -B[i]\n",
    "heapq.heapify(B)\n",
    "B"
   ]
  },
  {
   "cell_type": "code",
   "execution_count": 11,
   "id": "e4002c9d",
   "metadata": {},
   "outputs": [
    {
     "data": {
      "text/plain": [
       "12"
      ]
     },
     "execution_count": 11,
     "metadata": {},
     "output_type": "execute_result"
    }
   ],
   "source": [
    "largest = -heapq.heappop(B)\n",
    "largest"
   ]
  },
  {
   "cell_type": "code",
   "execution_count": 12,
   "id": "dc47403a",
   "metadata": {},
   "outputs": [
    {
     "data": {
      "text/plain": [
       "[-10, -9, -5, -8, -7, 4, -1, -3, 0, -2]"
      ]
     },
     "execution_count": 12,
     "metadata": {},
     "output_type": "execute_result"
    }
   ],
   "source": [
    "heapq.heappush(B, -7) #Insert 7 into max heap\n",
    "B"
   ]
  },
  {
   "cell_type": "markdown",
   "id": "7d4a2f91",
   "metadata": {},
   "source": [
    "# Build heap from scratch - Time: O(n log n)"
   ]
  },
  {
   "cell_type": "code",
   "execution_count": 14,
   "id": "f751a387",
   "metadata": {},
   "outputs": [
    {
     "name": "stdout",
     "output_type": "stream",
     "text": [
      "[-5]\n",
      "[-5, 4]\n",
      "[-5, 4, 2]\n",
      "[-5, 1, 2, 4]\n",
      "[-5, 1, 2, 4, 7]\n",
      "[-5, 1, 0, 4, 7, 2]\n",
      "[-5, 1, 0, 4, 7, 2, 3]\n"
     ]
    }
   ],
   "source": [
    "C = [-5,4,2,1,7,0,3]\n",
    "heap = []\n",
    "\n",
    "for x in C:\n",
    "    heapq.heappush(heap, x)\n",
    "    print(heap)"
   ]
  },
  {
   "cell_type": "code",
   "execution_count": 15,
   "id": "6e247b6a",
   "metadata": {
    "collapsed": true
   },
   "outputs": [
    {
     "name": "stdout",
     "output_type": "stream",
     "text": [
      "[-5, -5, 0, 1, 7, 2, 3, 4] 8\n",
      "[-5, -5, 0, 1, 7, 2, 3, 4, 4] 9\n",
      "[-5, -5, 0, 1, 2, 2, 3, 4, 4, 7] 10\n",
      "[-5, -5, 0, 1, 1, 2, 3, 4, 4, 7, 2] 11\n",
      "[-5, -5, 0, 1, 1, 2, 3, 4, 4, 7, 2, 7] 12\n",
      "[-5, -5, 0, 1, 1, 0, 3, 4, 4, 7, 2, 7, 2] 13\n",
      "[-5, -5, 0, 1, 1, 0, 3, 4, 4, 7, 2, 7, 2, 3] 14\n"
     ]
    }
   ],
   "source": [
    "for x in C:\n",
    "    heapq.heappush(heap, x)\n",
    "    print(heap, len(heap))"
   ]
  },
  {
   "cell_type": "code",
   "execution_count": null,
   "id": "8ed56f0b",
   "metadata": {},
   "outputs": [],
   "source": []
  }
 ],
 "metadata": {
  "kernelspec": {
   "display_name": "Python 3 (ipykernel)",
   "language": "python",
   "name": "python3"
  },
  "language_info": {
   "codemirror_mode": {
    "name": "ipython",
    "version": 3
   },
   "file_extension": ".py",
   "mimetype": "text/x-python",
   "name": "python",
   "nbconvert_exporter": "python",
   "pygments_lexer": "ipython3",
   "version": "3.11.5"
  }
 },
 "nbformat": 4,
 "nbformat_minor": 5
}
