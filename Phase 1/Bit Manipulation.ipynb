{
 "cells": [
  {
   "cell_type": "markdown",
   "id": "384ca46e",
   "metadata": {},
   "source": [
    "# Decimal to Binary"
   ]
  },
  {
   "cell_type": "code",
   "execution_count": 1,
   "id": "f9276eb4",
   "metadata": {},
   "outputs": [
    {
     "data": {
      "text/plain": [
       "'0b101'"
      ]
     },
     "execution_count": 1,
     "metadata": {},
     "output_type": "execute_result"
    }
   ],
   "source": [
    "bin(5)"
   ]
  },
  {
   "cell_type": "code",
   "execution_count": 2,
   "id": "158f70ea",
   "metadata": {},
   "outputs": [
    {
     "data": {
      "text/plain": [
       "'101'"
      ]
     },
     "execution_count": 2,
     "metadata": {},
     "output_type": "execute_result"
    }
   ],
   "source": [
    "bin(5)[2:]"
   ]
  },
  {
   "cell_type": "markdown",
   "id": "cd707c6a",
   "metadata": {},
   "source": [
    "# Binary to Decimal"
   ]
  },
  {
   "cell_type": "code",
   "execution_count": 3,
   "id": "0121e536",
   "metadata": {},
   "outputs": [
    {
     "data": {
      "text/plain": [
       "5"
      ]
     },
     "execution_count": 3,
     "metadata": {},
     "output_type": "execute_result"
    }
   ],
   "source": [
    "binary_5 = '101'\n",
    "int(binary_5, 2)"
   ]
  },
  {
   "cell_type": "markdown",
   "id": "26809294",
   "metadata": {},
   "source": [
    "# Bitwise AND"
   ]
  },
  {
   "cell_type": "code",
   "execution_count": 4,
   "id": "d755aeec",
   "metadata": {},
   "outputs": [
    {
     "data": {
      "text/plain": [
       "5"
      ]
     },
     "execution_count": 4,
     "metadata": {},
     "output_type": "execute_result"
    }
   ],
   "source": [
    "5 & 7"
   ]
  },
  {
   "cell_type": "markdown",
   "id": "e8f7cdb7",
   "metadata": {},
   "source": [
    "# Bitwise OR"
   ]
  },
  {
   "cell_type": "code",
   "execution_count": 5,
   "id": "6988282d",
   "metadata": {},
   "outputs": [
    {
     "data": {
      "text/plain": [
       "7"
      ]
     },
     "execution_count": 5,
     "metadata": {},
     "output_type": "execute_result"
    }
   ],
   "source": [
    "5 | 7"
   ]
  },
  {
   "cell_type": "markdown",
   "id": "73fd5716",
   "metadata": {},
   "source": [
    "# Bitwise XOR"
   ]
  },
  {
   "cell_type": "code",
   "execution_count": 6,
   "id": "109fda22",
   "metadata": {},
   "outputs": [
    {
     "data": {
      "text/plain": [
       "2"
      ]
     },
     "execution_count": 6,
     "metadata": {},
     "output_type": "execute_result"
    }
   ],
   "source": [
    "5 ^ 7"
   ]
  },
  {
   "cell_type": "markdown",
   "id": "50107548",
   "metadata": {},
   "source": [
    "# Bitwise NOT"
   ]
  },
  {
   "cell_type": "code",
   "execution_count": 7,
   "id": "157f6a09",
   "metadata": {},
   "outputs": [
    {
     "data": {
      "text/plain": [
       "-6"
      ]
     },
     "execution_count": 7,
     "metadata": {},
     "output_type": "execute_result"
    }
   ],
   "source": [
    "~5"
   ]
  },
  {
   "cell_type": "markdown",
   "id": "668ec549",
   "metadata": {},
   "source": [
    "# Left Shift"
   ]
  },
  {
   "cell_type": "code",
   "execution_count": 8,
   "id": "d943dbf1",
   "metadata": {},
   "outputs": [
    {
     "data": {
      "text/plain": [
       "20"
      ]
     },
     "execution_count": 8,
     "metadata": {},
     "output_type": "execute_result"
    }
   ],
   "source": [
    "5 << 2"
   ]
  },
  {
   "cell_type": "markdown",
   "id": "f74d0c8a",
   "metadata": {},
   "source": [
    "# Arithmetic (Signed) Right Shift"
   ]
  },
  {
   "cell_type": "code",
   "execution_count": 9,
   "id": "208fbe7b",
   "metadata": {},
   "outputs": [
    {
     "data": {
      "text/plain": [
       "2"
      ]
     },
     "execution_count": 9,
     "metadata": {},
     "output_type": "execute_result"
    }
   ],
   "source": [
    "5 >> 1"
   ]
  },
  {
   "cell_type": "markdown",
   "id": "d1600ca6",
   "metadata": {},
   "source": [
    "# Hexadecimal (Base 16)"
   ]
  },
  {
   "cell_type": "code",
   "execution_count": 11,
   "id": "f605c22c",
   "metadata": {},
   "outputs": [
    {
     "data": {
      "text/plain": [
       "'0x5'"
      ]
     },
     "execution_count": 11,
     "metadata": {},
     "output_type": "execute_result"
    }
   ],
   "source": [
    "hex(5)"
   ]
  },
  {
   "cell_type": "code",
   "execution_count": 12,
   "id": "c8193834",
   "metadata": {},
   "outputs": [
    {
     "data": {
      "text/plain": [
       "'5'"
      ]
     },
     "execution_count": 12,
     "metadata": {},
     "output_type": "execute_result"
    }
   ],
   "source": [
    "hex(5)[2:]"
   ]
  },
  {
   "cell_type": "code",
   "execution_count": null,
   "id": "0f4c841d",
   "metadata": {},
   "outputs": [],
   "source": []
  }
 ],
 "metadata": {
  "kernelspec": {
   "display_name": "Python 3 (ipykernel)",
   "language": "python",
   "name": "python3"
  },
  "language_info": {
   "codemirror_mode": {
    "name": "ipython",
    "version": 3
   },
   "file_extension": ".py",
   "mimetype": "text/x-python",
   "name": "python",
   "nbconvert_exporter": "python",
   "pygments_lexer": "ipython3",
   "version": "3.11.5"
  }
 },
 "nbformat": 4,
 "nbformat_minor": 5
}
