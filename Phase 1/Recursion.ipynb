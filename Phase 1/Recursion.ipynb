{
 "cells": [
  {
   "cell_type": "markdown",
   "id": "6a4ba05b",
   "metadata": {},
   "source": [
    "# Fibonacci"
   ]
  },
  {
   "cell_type": "code",
   "execution_count": 2,
   "id": "e9c97da3",
   "metadata": {},
   "outputs": [
    {
     "data": {
      "text/plain": [
       "'\\nF(0) = 0\\nF(1) = 1\\nn > 1: F(n) = F(n-1) + F(n-2)\\n\\nTime: O(2^n) & Space: O(n)\\n'"
      ]
     },
     "execution_count": 2,
     "metadata": {},
     "output_type": "execute_result"
    }
   ],
   "source": [
    "'''\n",
    "F(0) = 0\n",
    "F(1) = 1\n",
    "n > 1: F(n) = F(n-1) + F(n-2)\n",
    "\n",
    "Time: O(2^n) & Space: O(n)\n",
    "'''"
   ]
  },
  {
   "cell_type": "code",
   "execution_count": 4,
   "id": "4eb93452",
   "metadata": {},
   "outputs": [
    {
     "data": {
      "text/plain": [
       "55"
      ]
     },
     "execution_count": 4,
     "metadata": {},
     "output_type": "execute_result"
    }
   ],
   "source": [
    "def f(n):\n",
    "    if n == 0:\n",
    "        return 0\n",
    "    elif n == 1:\n",
    "        return 1\n",
    "    else:\n",
    "        return f(n-1) + f(n-2)\n",
    "f(10)"
   ]
  },
  {
   "cell_type": "code",
   "execution_count": 5,
   "id": "c023d343",
   "metadata": {},
   "outputs": [
    {
     "name": "stdout",
     "output_type": "stream",
     "text": [
      "1\n"
     ]
    }
   ],
   "source": [
    "class SLL:\n",
    "    def __init__(self, val, next=None):\n",
    "        self.val = val\n",
    "        self.next= next\n",
    "    def __str__(self):\n",
    "        return str(self.val)\n",
    "    \n",
    "Head = SLL(1)\n",
    "A = SLL(3)\n",
    "B = SLL(4)\n",
    "C = SLL(7)\n",
    "\n",
    "Head.next = A\n",
    "A.next = B\n",
    "B.next = C\n",
    "\n",
    "print(Head)"
   ]
  },
  {
   "cell_type": "code",
   "execution_count": 6,
   "id": "15ea53b6",
   "metadata": {},
   "outputs": [
    {
     "name": "stdout",
     "output_type": "stream",
     "text": [
      "7\n",
      "4\n",
      "3\n",
      "1\n"
     ]
    }
   ],
   "source": [
    "#Linked Lists\n",
    "#Time: O(n), Space: O(n)\n",
    "def reverse(node):\n",
    "    if not node:\n",
    "        return\n",
    "    reverse(node.next)\n",
    "    print(node)\n",
    "reverse(Head)"
   ]
  }
 ],
 "metadata": {
  "kernelspec": {
   "display_name": "Python 3 (ipykernel)",
   "language": "python",
   "name": "python3"
  },
  "language_info": {
   "codemirror_mode": {
    "name": "ipython",
    "version": 3
   },
   "file_extension": ".py",
   "mimetype": "text/x-python",
   "name": "python",
   "nbconvert_exporter": "python",
   "pygments_lexer": "ipython3",
   "version": "3.11.5"
  }
 },
 "nbformat": 4,
 "nbformat_minor": 5
}
