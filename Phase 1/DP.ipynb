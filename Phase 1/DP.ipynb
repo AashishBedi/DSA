{
 "cells": [
  {
   "cell_type": "markdown",
   "id": "b8593dd1",
   "metadata": {},
   "source": [
    "#        #Recursive Solution\n"
   ]
  },
  {
   "cell_type": "code",
   "execution_count": 2,
   "id": "9d596e04",
   "metadata": {},
   "outputs": [],
   "source": [
    "#Time: O(2^n)\n",
    "class Solution:\n",
    "    def fib(self, n: int) -> int:\n",
    "        if n == 0:\n",
    "            return 0\n",
    "        if n == 1:\n",
    "            return 1\n",
    "        return self.fib(n-2) + self.fib(n-1)\n",
    "        "
   ]
  },
  {
   "cell_type": "markdown",
   "id": "023801e6",
   "metadata": {},
   "source": [
    "#    #Top down memoization"
   ]
  },
  {
   "cell_type": "code",
   "execution_count": 4,
   "id": "b54f8e74",
   "metadata": {},
   "outputs": [],
   "source": [
    "#Time: O(n)\n",
    "#Space: O(n)\n",
    "class Solution:\n",
    "    def fib(self, n: int) -> int:\n",
    "        memo = {0:0, 1:1}\n",
    "\n",
    "        def f(x):\n",
    "            if x in memo:\n",
    "                return memo[x]\n",
    "            else:\n",
    "                memo[x] = f(x-1) + f(x-2)\n",
    "                return memo[x]\n",
    "        return f(n)"
   ]
  },
  {
   "cell_type": "markdown",
   "id": "db124944",
   "metadata": {},
   "source": [
    "#        #Bottom up Tabulation\n"
   ]
  },
  {
   "cell_type": "code",
   "execution_count": 6,
   "id": "4ff21612",
   "metadata": {},
   "outputs": [],
   "source": [
    "#Time: O(n)\n",
    "#Space: O(n)\n",
    "class Solution:\n",
    "    def fib(self, n: int) -> int:\n",
    "\n",
    "        if n == 0:\n",
    "            return 0\n",
    "        if n == 1:\n",
    "            return 1\n",
    "        \n",
    "        dp = [0]*(n+1)\n",
    "        dp[0] = 0\n",
    "        dp[1] = 1\n",
    "\n",
    "        for i in range(2, n+1):\n",
    "            dp[i] = dp[i-2] + dp[i-1]\n",
    "        return dp[n]"
   ]
  },
  {
   "cell_type": "markdown",
   "id": "e59a7b58",
   "metadata": {},
   "source": [
    "#  #Constant Space "
   ]
  },
  {
   "cell_type": "code",
   "execution_count": null,
   "id": "380d0df8",
   "metadata": {},
   "outputs": [],
   "source": [
    "#Time: O(2^n)\n",
    "#Space: O(1)\n",
    "class Solution:\n",
    "    def fib(self, n: int) -> int:\n",
    "        if n == 0:\n",
    "            return 0\n",
    "        if n == 1:\n",
    "            return 1\n",
    "        \n",
    "        prev = 0\n",
    "        curr = 1\n",
    "\n",
    "        for i in range(2, n+1):\n",
    "            prev,curr = curr, prev+curr\n",
    "        return curr"
   ]
  }
 ],
 "metadata": {
  "kernelspec": {
   "display_name": "Python 3 (ipykernel)",
   "language": "python",
   "name": "python3"
  },
  "language_info": {
   "codemirror_mode": {
    "name": "ipython",
    "version": 3
   },
   "file_extension": ".py",
   "mimetype": "text/x-python",
   "name": "python",
   "nbconvert_exporter": "python",
   "pygments_lexer": "ipython3",
   "version": "3.11.5"
  }
 },
 "nbformat": 4,
 "nbformat_minor": 5
}
