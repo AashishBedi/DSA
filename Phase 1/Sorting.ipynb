{
 "cells": [
  {
   "cell_type": "markdown",
   "id": "75c4924a",
   "metadata": {},
   "source": [
    "# Bubble Sort\n",
    "Time: O(n^2)\n",
    "\n",
    "Space: O(1)"
   ]
  },
  {
   "cell_type": "code",
   "execution_count": 1,
   "id": "1e320c1f",
   "metadata": {},
   "outputs": [],
   "source": [
    "A = [-5,3,2,1,-3,-3,7,2,2]"
   ]
  },
  {
   "cell_type": "code",
   "execution_count": 2,
   "id": "10de0c07",
   "metadata": {},
   "outputs": [
    {
     "data": {
      "text/plain": [
       "[-5, -3, -3, 1, 2, 2, 2, 3, 7]"
      ]
     },
     "execution_count": 2,
     "metadata": {},
     "output_type": "execute_result"
    }
   ],
   "source": [
    "def bubble_sort(arr):\n",
    "    n = len(arr)\n",
    "    flag = True\n",
    "    while flag:\n",
    "        flag = False\n",
    "        for i in range(1,n):\n",
    "            if arr[i-1] > arr[i]:\n",
    "                flag = True\n",
    "                arr[i-1],arr[i] = arr[i], arr[i-1]\n",
    "bubble_sort(A)\n",
    "A"
   ]
  },
  {
   "cell_type": "markdown",
   "id": "a8e8668e",
   "metadata": {},
   "source": [
    "# Insertion Sort\n",
    "Time: O(n^2)\n",
    "\n",
    "Space: O(1)"
   ]
  },
  {
   "cell_type": "code",
   "execution_count": 4,
   "id": "92777cd6",
   "metadata": {},
   "outputs": [
    {
     "data": {
      "text/plain": [
       "[-5, -3, -3, 1, 2, 2, 2, 3, 7]"
      ]
     },
     "execution_count": 4,
     "metadata": {},
     "output_type": "execute_result"
    }
   ],
   "source": [
    "B = [-5,3,2,1,-3,-3,7,2,2]\n",
    "def insertion_sort(arr):\n",
    "    n = len(arr)\n",
    "    for i in range(1,n):\n",
    "        for j in range(i,0,-1):\n",
    "            if arr[j-1] > arr[j]:\n",
    "                arr[j-1],arr[j] = arr[j], arr[j-1]\n",
    "            else:\n",
    "                break\n",
    "insertion_sort(B)\n",
    "B"
   ]
  },
  {
   "cell_type": "markdown",
   "id": "8a668253",
   "metadata": {},
   "source": [
    "# Selection Sort\n",
    "Time: O(n^2)\n",
    "    \n",
    "Space: O(1)"
   ]
  },
  {
   "cell_type": "code",
   "execution_count": 6,
   "id": "c8a9f120",
   "metadata": {},
   "outputs": [
    {
     "data": {
      "text/plain": [
       "[-5, -3, -3, 1, 2, 2, 2, 3, 7]"
      ]
     },
     "execution_count": 6,
     "metadata": {},
     "output_type": "execute_result"
    }
   ],
   "source": [
    "C = [-5,3,2,1,-3,-3,7,2,2]\n",
    "def selection_sort(arr):\n",
    "    n = len(arr)\n",
    "    for i in range(n):\n",
    "        min_idx = i\n",
    "        for j in range(i+1, n):\n",
    "            if arr[j] < arr[min_idx]:\n",
    "                min_idx = j\n",
    "        arr[i], arr[min_idx] = arr[min_idx], arr[i]\n",
    "selection_sort(C)\n",
    "C"
   ]
  },
  {
   "cell_type": "markdown",
   "id": "68ed95aa",
   "metadata": {},
   "source": [
    "# Merge Sort\n",
    "Time: O(n log n)\n",
    "    \n",
    "Space: O(n)"
   ]
  },
  {
   "cell_type": "code",
   "execution_count": 7,
   "id": "2a03ae98",
   "metadata": {},
   "outputs": [
    {
     "data": {
      "text/plain": [
       "[-5, -3, -3, 1, 2, 2, 2, 3, 7]"
      ]
     },
     "execution_count": 7,
     "metadata": {},
     "output_type": "execute_result"
    }
   ],
   "source": [
    "D = [-5,3,2,1,-3,-3,7,2,2]\n",
    "\n",
    "def merge_sort(arr):\n",
    "    n = len(arr)\n",
    "    \n",
    "    if n == 1:\n",
    "        return arr\n",
    "    \n",
    "    m = len(arr)//2\n",
    "    L = arr[:m]\n",
    "    R = arr[m:]\n",
    "    \n",
    "    L = merge_sort(L)\n",
    "    R = merge_sort(R)\n",
    "    l,r = 0,0\n",
    "    L_len = len(L)\n",
    "    R_len = len(R)\n",
    "    \n",
    "    sorted_arr = [0]*n\n",
    "    i = 0\n",
    "    \n",
    "    while l < L_len and r < R_len:\n",
    "        if L[l] < R[r]:\n",
    "            sorted_arr[i] = L[l]\n",
    "            l += 1\n",
    "        else:\n",
    "            sorted_arr[i] = R[r]\n",
    "            r += 1\n",
    "        i += 1\n",
    "    while l < L_len:\n",
    "        sorted_arr[i] = L[l]\n",
    "        l += 1\n",
    "        i += 1\n",
    "    while r < R_len:\n",
    "        sorted_arr[i] = R[r]\n",
    "        r += 1\n",
    "        i += 1\n",
    "    return sorted_arr\n",
    "merge_sort(D)"
   ]
  },
  {
   "cell_type": "markdown",
   "id": "0a4abac4",
   "metadata": {},
   "source": [
    "# Quick Sort\n",
    "Time: O(n log n)\n",
    "    \n",
    "Space: O(n)"
   ]
  },
  {
   "cell_type": "code",
   "execution_count": 8,
   "id": "9b822210",
   "metadata": {},
   "outputs": [
    {
     "data": {
      "text/plain": [
       "[-5, -3, -3, 1, 2, 2, 2, 3, 7]"
      ]
     },
     "execution_count": 8,
     "metadata": {},
     "output_type": "execute_result"
    }
   ],
   "source": [
    "E = [-5,3,2,1,-3,-3,7,2,2]\n",
    "\n",
    "def quick_sort(arr):\n",
    "    if len(arr) <= 1:\n",
    "        return arr\n",
    "    \n",
    "    p = arr[-1]\n",
    "    \n",
    "    L = [x for x in arr[:-1] if x <= p]\n",
    "    R = [x for x in arr[:-1] if x > p]\n",
    "    \n",
    "    L = quick_sort(L)\n",
    "    R = quick_sort(R)\n",
    "    \n",
    "    return L + [p] + R\n",
    "quick_sort(E)"
   ]
  },
  {
   "cell_type": "markdown",
   "id": "9a29a34f",
   "metadata": {},
   "source": [
    "# Tim Sort"
   ]
  },
  {
   "cell_type": "code",
   "execution_count": 9,
   "id": "9ab19d3d",
   "metadata": {},
   "outputs": [
    {
     "data": {
      "text/plain": [
       "[-5, -3, -3, 1, 2, 2, 2, 3, 7]"
      ]
     },
     "execution_count": 9,
     "metadata": {},
     "output_type": "execute_result"
    }
   ],
   "source": [
    "G = [-5,3,2,1,-3,-3,7,2,2]\n",
    "G.sort()\n",
    "G"
   ]
  },
  {
   "cell_type": "code",
   "execution_count": 10,
   "id": "622ef569",
   "metadata": {},
   "outputs": [
    {
     "data": {
      "text/plain": [
       "[-5, -3, -3, 1, 2, 2, 2, 3, 7]"
      ]
     },
     "execution_count": 10,
     "metadata": {},
     "output_type": "execute_result"
    }
   ],
   "source": [
    "H = [-5,3,2,1,-3,-3,7,2,2]\n",
    "sorted_H = sorted(H)\n",
    "sorted_H"
   ]
  },
  {
   "cell_type": "code",
   "execution_count": 1,
   "id": "0bbaee92",
   "metadata": {},
   "outputs": [],
   "source": [
    "#Sort an array of tuples"
   ]
  },
  {
   "cell_type": "code",
   "execution_count": 2,
   "id": "5ad67ba9",
   "metadata": {},
   "outputs": [
    {
     "data": {
      "text/plain": [
       "[(-5, 3), (-3, -3), (2, 1), (2, 2), (7, 2)]"
      ]
     },
     "execution_count": 2,
     "metadata": {},
     "output_type": "execute_result"
    }
   ],
   "source": [
    "I = [(-5,3), (2,1), (-3,-3), (7,2), (2,2)]\n",
    "sorted_I = sorted(I, key = lambda t: t[0])\n",
    "sorted_I"
   ]
  },
  {
   "cell_type": "code",
   "execution_count": null,
   "id": "6075acb5",
   "metadata": {},
   "outputs": [],
   "source": []
  }
 ],
 "metadata": {
  "kernelspec": {
   "display_name": "Python 3 (ipykernel)",
   "language": "python",
   "name": "python3"
  },
  "language_info": {
   "codemirror_mode": {
    "name": "ipython",
    "version": 3
   },
   "file_extension": ".py",
   "mimetype": "text/x-python",
   "name": "python",
   "nbconvert_exporter": "python",
   "pygments_lexer": "ipython3",
   "version": "3.11.5"
  }
 },
 "nbformat": 4,
 "nbformat_minor": 5
}
