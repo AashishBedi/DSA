{
 "cells": [
  {
   "cell_type": "code",
   "execution_count": 1,
   "id": "f4986b62",
   "metadata": {},
   "outputs": [],
   "source": [
    "# DFS\n",
    "\n",
    "def dfs(tree):\n",
    "    if tree is None:\n",
    "        return\n",
    "    print(tree.value)\n",
    "    for child in tree.children:\n",
    "        dfs(child)"
   ]
  },
  {
   "cell_type": "code",
   "execution_count": 1,
   "id": "c1cf5646",
   "metadata": {},
   "outputs": [],
   "source": [
    "#Look-up & Inorder Traversal are 2 bestfriends while solving Trees"
   ]
  },
  {
   "cell_type": "code",
   "execution_count": 2,
   "id": "633a7da3",
   "metadata": {},
   "outputs": [],
   "source": [
    "#Binary Trees\n",
    "class TreeNode:\n",
    "    def __init__(self, val, left=None, right=None):\n",
    "        self.val = val\n",
    "        self.left = left\n",
    "        self.right= right\n",
    "    def __str__(self):\n",
    "        return str(self.val)"
   ]
  },
  {
   "cell_type": "code",
   "execution_count": 3,
   "id": "4de8a86e",
   "metadata": {},
   "outputs": [],
   "source": [
    "#       1\n",
    "#   2       3\n",
    "# 4   5   10"
   ]
  },
  {
   "cell_type": "code",
   "execution_count": 4,
   "id": "6672114f",
   "metadata": {},
   "outputs": [
    {
     "name": "stdout",
     "output_type": "stream",
     "text": [
      "1\n"
     ]
    }
   ],
   "source": [
    "A = TreeNode(1)\n",
    "B = TreeNode(2)\n",
    "C = TreeNode(3)\n",
    "D = TreeNode(4)\n",
    "E = TreeNode(5)\n",
    "F = TreeNode(10)\n",
    "\n",
    "A.left = B\n",
    "A.right = C\n",
    "B.left = D\n",
    "B.right = E\n",
    "C.left = F\n",
    "\n",
    "print(A)"
   ]
  },
  {
   "cell_type": "markdown",
   "id": "1c56aeeb",
   "metadata": {},
   "source": [
    "# Recursive Pre Order Traversal(DFS)  Time: O(n), Space: O(n)"
   ]
  },
  {
   "cell_type": "code",
   "execution_count": 5,
   "id": "f995638c",
   "metadata": {},
   "outputs": [
    {
     "name": "stdout",
     "output_type": "stream",
     "text": [
      "1\n",
      "2\n",
      "4\n",
      "5\n",
      "3\n",
      "10\n"
     ]
    }
   ],
   "source": [
    "def preorder(node):\n",
    "    if not node:\n",
    "        return \n",
    "    print(node)\n",
    "    preorder(node.left)\n",
    "    preorder(node.right)\n",
    "preorder(A)"
   ]
  },
  {
   "cell_type": "markdown",
   "id": "508f5ebd",
   "metadata": {},
   "source": [
    "# Recursive inorder Traversal(DFS)  Time: O(n), Space: O(n)"
   ]
  },
  {
   "cell_type": "code",
   "execution_count": 8,
   "id": "bbf3c115",
   "metadata": {},
   "outputs": [
    {
     "name": "stdout",
     "output_type": "stream",
     "text": [
      "4\n",
      "2\n",
      "5\n",
      "1\n",
      "10\n",
      "3\n"
     ]
    }
   ],
   "source": [
    "def Inorder(node):\n",
    "    if not node:\n",
    "        return \n",
    "    Inorder(node.left)\n",
    "    print(node)\n",
    "    Inorder(node.right)\n",
    "Inorder(A)"
   ]
  },
  {
   "cell_type": "markdown",
   "id": "dc14d65e",
   "metadata": {},
   "source": [
    "# Recursive Postorder Traversal(DFS) Time: O(n), Space: O(n)"
   ]
  },
  {
   "cell_type": "code",
   "execution_count": 9,
   "id": "9135746e",
   "metadata": {},
   "outputs": [
    {
     "name": "stdout",
     "output_type": "stream",
     "text": [
      "4\n",
      "5\n",
      "2\n",
      "10\n",
      "3\n",
      "1\n"
     ]
    }
   ],
   "source": [
    "def Postorder(node):\n",
    "    if not node:\n",
    "        return \n",
    "    Postorder(node.left)\n",
    "    Postorder(node.right)\n",
    "    print(node)\n",
    "Postorder(A)"
   ]
  },
  {
   "cell_type": "markdown",
   "id": "84dcf9eb",
   "metadata": {},
   "source": [
    "# Iterative Preorder Traversal(DFS) Time: O(n), Space: O(n)\n"
   ]
  },
  {
   "cell_type": "code",
   "execution_count": 10,
   "id": "a040f3ea",
   "metadata": {},
   "outputs": [
    {
     "name": "stdout",
     "output_type": "stream",
     "text": [
      "1\n",
      "2\n",
      "4\n",
      "5\n",
      "3\n",
      "10\n"
     ]
    }
   ],
   "source": [
    "def pre_(node):\n",
    "    stk = [node]\n",
    "    while stk:\n",
    "        node = stk.pop()\n",
    "        print(node)\n",
    "        if node.right:\n",
    "            stk.append(node.right)\n",
    "        if node.left:\n",
    "            stk.append(node.left)\n",
    "pre_(A)"
   ]
  },
  {
   "cell_type": "markdown",
   "id": "04876d57",
   "metadata": {},
   "source": [
    "# Level Order Traversal (BFS) Time: O(n), Space: O(n)"
   ]
  },
  {
   "cell_type": "code",
   "execution_count": 14,
   "id": "45ac363b",
   "metadata": {},
   "outputs": [
    {
     "name": "stdout",
     "output_type": "stream",
     "text": [
      "1\n",
      "2\n",
      "3\n",
      "4\n",
      "5\n",
      "10\n"
     ]
    }
   ],
   "source": [
    "from collections import deque\n",
    "def level_order(node):\n",
    "    q = deque()\n",
    "    q.append(node)\n",
    "    \n",
    "    while q:\n",
    "        node = q.popleft()\n",
    "        print(node)\n",
    "        if node.left:\n",
    "            q.append(node.left)\n",
    "        if node.right:\n",
    "            q.append(node.right)\n",
    "        \n",
    "level_order(A)"
   ]
  },
  {
   "cell_type": "markdown",
   "id": "7462fd17",
   "metadata": {},
   "source": [
    "# Check if value Exists (DFS) Time: O(n), Space: O(n)"
   ]
  },
  {
   "cell_type": "code",
   "execution_count": 15,
   "id": "cb9ad23e",
   "metadata": {},
   "outputs": [
    {
     "data": {
      "text/plain": [
       "False"
      ]
     },
     "execution_count": 15,
     "metadata": {},
     "output_type": "execute_result"
    }
   ],
   "source": [
    "def search(node, target):\n",
    "    if not node:\n",
    "        return False\n",
    "    if node.val == target:\n",
    "        return True\n",
    "    \n",
    "    return search(node.left, target) or search(node.right, target)\n",
    "search(A, 6)"
   ]
  },
  {
   "cell_type": "code",
   "execution_count": 16,
   "id": "de94494e",
   "metadata": {},
   "outputs": [
    {
     "data": {
      "text/plain": [
       "True"
      ]
     },
     "execution_count": 16,
     "metadata": {},
     "output_type": "execute_result"
    }
   ],
   "source": [
    "search(A, 5)"
   ]
  },
  {
   "cell_type": "code",
   "execution_count": null,
   "id": "55c7cb21",
   "metadata": {},
   "outputs": [],
   "source": []
  }
 ],
 "metadata": {
  "kernelspec": {
   "display_name": "Python 3 (ipykernel)",
   "language": "python",
   "name": "python3"
  },
  "language_info": {
   "codemirror_mode": {
    "name": "ipython",
    "version": 3
   },
   "file_extension": ".py",
   "mimetype": "text/x-python",
   "name": "python",
   "nbconvert_exporter": "python",
   "pygments_lexer": "ipython3",
   "version": "3.11.5"
  }
 },
 "nbformat": 4,
 "nbformat_minor": 5
}
