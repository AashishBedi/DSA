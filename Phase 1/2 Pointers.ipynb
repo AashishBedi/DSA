{
 "cells": [
  {
   "cell_type": "code",
   "execution_count": null,
   "id": "ffc7e19a",
   "metadata": {},
   "outputs": [],
   "source": [
    "class Solution:\n",
    "    def sortedSquares(self, nums: List[int]) -> List[int]:\n",
    "        l,r = 0, len(nums)-1\n",
    "        result = []\n",
    "        while l <= r:\n",
    "            if abs(nums[l]) > abs(nums[r]):\n",
    "                result.append(abs(nums[l]**2))\n",
    "                l += 1\n",
    "            else:\n",
    "                result.append(abs(nums[r]**2))\n",
    "                r -= 1\n",
    "        result.reverse()\n",
    "        return result"
   ]
  }
 ],
 "metadata": {
  "kernelspec": {
   "display_name": "Python 3 (ipykernel)",
   "language": "python",
   "name": "python3"
  },
  "language_info": {
   "codemirror_mode": {
    "name": "ipython",
    "version": 3
   },
   "file_extension": ".py",
   "mimetype": "text/x-python",
   "name": "python",
   "nbconvert_exporter": "python",
   "pygments_lexer": "ipython3",
   "version": "3.11.5"
  }
 },
 "nbformat": 4,
 "nbformat_minor": 5
}
