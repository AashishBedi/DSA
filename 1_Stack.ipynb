{
 "cells": [
  {
   "cell_type": "code",
   "execution_count": null,
   "id": "d82e5fe3",
   "metadata": {},
   "outputs": [],
   "source": [
    "# Stack using list"
   ]
  },
  {
   "cell_type": "code",
   "execution_count": 1,
   "id": "ce6d882e",
   "metadata": {},
   "outputs": [],
   "source": [
    "# Q1. Initialize a stack\n",
    "class Stack:\n",
    "    def __init__(self):\n",
    "        self.items = []"
   ]
  },
  {
   "cell_type": "code",
   "execution_count": 2,
   "id": "6461fa2a",
   "metadata": {},
   "outputs": [],
   "source": [
    "#Q2. Define is_empty() in the stack\n",
    "class Stack:\n",
    "    def __init__(self):\n",
    "        self.items = []\n",
    "    def is_empty(self):\n",
    "        return len(self.item) == 0"
   ]
  },
  {
   "cell_type": "code",
   "execution_count": 3,
   "id": "81ae569e",
   "metadata": {},
   "outputs": [],
   "source": [
    "#Q3. define push function\n",
    "def push(self,data):\n",
    "    self.items.append(data)"
   ]
  },
  {
   "cell_type": "code",
   "execution_count": 4,
   "id": "c8113fe4",
   "metadata": {},
   "outputs": [],
   "source": [
    "#Q4. define pop function\n",
    "def pop(self):\n",
    "    if not self.is_empty():\n",
    "        return self.items.pop()\n",
    "    else:\n",
    "        raise IndexError(\"Stack is empty\")"
   ]
  },
  {
   "cell_type": "code",
   "execution_count": 5,
   "id": "e25afda9",
   "metadata": {},
   "outputs": [],
   "source": [
    "#Q5. define peek function\n",
    "def peek(self):\n",
    "    if not self.is_empty():\n",
    "        return self.items[-1]\n",
    "    else:\n",
    "        raise IndexError(\"Stack is empty\")"
   ]
  },
  {
   "cell_type": "code",
   "execution_count": 6,
   "id": "9ae99833",
   "metadata": {},
   "outputs": [],
   "source": [
    "#Q6. define size of stack\n",
    "def size(self):\n",
    "    return len(self.items)"
   ]
  },
  {
   "cell_type": "code",
   "execution_count": 13,
   "id": "81348a8e",
   "metadata": {},
   "outputs": [
    {
     "name": "stdout",
     "output_type": "stream",
     "text": [
      "30\n",
      "30\n",
      "20\n"
     ]
    }
   ],
   "source": [
    "class Stack:\n",
    "    def __init__(self):\n",
    "        self.items = []\n",
    "\n",
    "    def is_empty(self):\n",
    "        return len(self.items) == 0  # Corrected typo: self.item -> self.items\n",
    "\n",
    "    def push(self, data):\n",
    "        self.items.append(data)\n",
    "\n",
    "    def pop(self):\n",
    "        if not self.is_empty():\n",
    "            return self.items.pop()\n",
    "        else:\n",
    "            raise IndexError(\"Stack is empty\")\n",
    "\n",
    "    def peek(self):\n",
    "        if not self.is_empty():\n",
    "            return self.items[-1]\n",
    "        else:\n",
    "            raise IndexError(\"Stack is empty\")\n",
    "\n",
    "    def size(self):\n",
    "        return len(self.items)\n",
    "\n",
    "s1 = Stack()\n",
    "s1.push(10)\n",
    "s1.push(20)\n",
    "s1.push(30)\n",
    "print(s1.peek())\n",
    "print(s1.pop())\n",
    "print(s1.peek())"
   ]
  },
  {
   "cell_type": "code",
   "execution_count": null,
   "id": "1265c6f9",
   "metadata": {},
   "outputs": [],
   "source": []
  }
 ],
 "metadata": {
  "kernelspec": {
   "display_name": "Python 3 (ipykernel)",
   "language": "python",
   "name": "python3"
  },
  "language_info": {
   "codemirror_mode": {
    "name": "ipython",
    "version": 3
   },
   "file_extension": ".py",
   "mimetype": "text/x-python",
   "name": "python",
   "nbconvert_exporter": "python",
   "pygments_lexer": "ipython3",
   "version": "3.11.5"
  }
 },
 "nbformat": 4,
 "nbformat_minor": 5
}
