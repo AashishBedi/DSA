{
 "cells": [
  {
   "cell_type": "markdown",
   "id": "6eb98d07",
   "metadata": {},
   "source": [
    "# Singly Linked List"
   ]
  },
  {
   "cell_type": "code",
   "execution_count": 1,
   "id": "e5f90d0f",
   "metadata": {},
   "outputs": [],
   "source": [
    "# Q1. Define a class Node to describe a node of SLL.\n",
    "class Node:\n",
    "    def __init__(self, item=None, next=None):\n",
    "        self.item = item\n",
    "        self.next = next"
   ]
  },
  {
   "cell_type": "code",
   "execution_count": 2,
   "id": "72dfe548",
   "metadata": {},
   "outputs": [],
   "source": [
    "# Q2. Define a class SLL to implement SLL with __init__() method to create and initialise start reference variable \n",
    "class Node:\n",
    "    def __init__(self, item=None, next=None):\n",
    "        self.item = item\n",
    "        self.next = next\n",
    "        \n",
    "class SLL:\n",
    "    def __init__(self, start=None):\n",
    "        self.start = start"
   ]
  },
  {
   "cell_type": "code",
   "execution_count": 4,
   "id": "a28827e0",
   "metadata": {},
   "outputs": [
    {
     "data": {
      "text/plain": [
       "True"
      ]
     },
     "execution_count": 4,
     "metadata": {},
     "output_type": "execute_result"
    }
   ],
   "source": [
    "# Q3. Define a method is_empty() to check if the LL is empty in SLL class.\n",
    "class Node:\n",
    "    def __init__(self, item=None, next=None):\n",
    "        self.item = item\n",
    "        self.next = next\n",
    "        \n",
    "class SLL:\n",
    "    def __init__(self, start=None):\n",
    "        self.start = start\n",
    "    def is_empty(self):\n",
    "        return self.start == None\n",
    "    \n",
    "obj = SLL()\n",
    "obj.is_empty()"
   ]
  },
  {
   "cell_type": "code",
   "execution_count": 7,
   "id": "0c7e54a4",
   "metadata": {},
   "outputs": [],
   "source": [
    "# Q4. In class SLL, define a method insert_at_start() to insert at beginning in the list.\n",
    "class Node:\n",
    "    def __init__(self, item=None, next=None):\n",
    "        self.item = item\n",
    "        self.next = next\n",
    "        \n",
    "class SLL:\n",
    "    def __init__(self, start = None):\n",
    "        self.start = start\n",
    "        \n",
    "    def insert_at_start(self, data):\n",
    "        n = Node(data, self.start)\n",
    "        self.start = n\n",
    "        \n",
    "obj = SLL()\n",
    "obj.insert_at_start(50)"
   ]
  },
  {
   "cell_type": "code",
   "execution_count": 8,
   "id": "8a4148bd",
   "metadata": {},
   "outputs": [],
   "source": [
    "# Q5. In class SLL, define a method insert_at_end() to insert at end in the list.\n",
    "class Node:\n",
    "    def __init__(self, item=None, next=None):\n",
    "        self.item = item\n",
    "        self.next = next\n",
    "        \n",
    "class SLL:\n",
    "    def __init__(self, start = None):\n",
    "        self.start = start\n",
    "        \n",
    "    def is_empty(self):\n",
    "        return self.start == None\n",
    "        \n",
    "    def insert_at_end(self, data):\n",
    "        n = Node(data)\n",
    "        if not self.is_empty():\n",
    "            temp = self.start\n",
    "            while temp.next is not None:\n",
    "                temp = temp.next\n",
    "            temp.next = n\n",
    "        else:\n",
    "            self.start = n\n",
    "        \n",
    "obj = SLL()\n",
    "obj.insert_at_end(50)"
   ]
  },
  {
   "cell_type": "code",
   "execution_count": 9,
   "id": "c1dbaedf",
   "metadata": {},
   "outputs": [],
   "source": [
    "# Q6. In class SLL, define a method search() to find the node with specified element value.\n",
    "class Node:\n",
    "    def __init__(self, item=None, next=None):\n",
    "        self.item = item\n",
    "        self.next = next\n",
    "        \n",
    "class SLL:\n",
    "    def __init__(self, start = None):\n",
    "        self.start = start\n",
    "        \n",
    "    def is_empty(self):\n",
    "        return self.start == None\n",
    "        \n",
    "    def search(self, data):\n",
    "        temp = self.start\n",
    "        while temp is not None:\n",
    "            if temp.item == data:\n",
    "                return temp\n",
    "            temp = temp.next\n",
    "        return None\n",
    "        \n",
    "obj = SLL()\n",
    "obj.search(0)"
   ]
  },
  {
   "cell_type": "code",
   "execution_count": 10,
   "id": "3af7bbd0",
   "metadata": {},
   "outputs": [],
   "source": [
    "# Q7. In class SLL, define a method insert_after() to insert a new node after a given node of the list.\n",
    "class Node:\n",
    "    def __init__(self, item=None, next=None):\n",
    "        self.item = item\n",
    "        self.next = next\n",
    "        \n",
    "class SLL:\n",
    "    def __init__(self, start = None):\n",
    "        self.start = start\n",
    "        \n",
    "    def is_empty(self):\n",
    "        return self.start == None\n",
    "        \n",
    "    def insert_after(self, temp,  data):\n",
    "        if temp is not None:\n",
    "            n = Node(data, temp.next)\n",
    "            temp.next = n\n",
    "                    \n",
    "obj = SLL()"
   ]
  },
  {
   "cell_type": "code",
   "execution_count": 11,
   "id": "52ea1105",
   "metadata": {},
   "outputs": [
    {
     "name": "stdout",
     "output_type": "stream",
     "text": [
      "Linked list:  "
     ]
    }
   ],
   "source": [
    "# Q8. In class SLL, define a method to print all the elements of the list.\n",
    "class Node:\n",
    "    def __init__(self, item=None, next=None):\n",
    "        self.item = item\n",
    "        self.next = next\n",
    "        \n",
    "class SLL:\n",
    "    def __init__(self, start = None):\n",
    "        self.start = start\n",
    "        \n",
    "    def print_list(self):\n",
    "        print(\"Linked list: \",end= ' ')\n",
    "        temp = self.start\n",
    "        while temp is not None:\n",
    "            print(temp.item, end = ' ')\n",
    "            temp = temp.next\n",
    "            \n",
    "obj = SLL()\n",
    "obj.print_list()"
   ]
  },
  {
   "cell_type": "code",
   "execution_count": 12,
   "id": "3dea4324",
   "metadata": {},
   "outputs": [
    {
     "name": "stdout",
     "output_type": "stream",
     "text": [
      "Linked list:  20 10 50 "
     ]
    }
   ],
   "source": [
    "# Collective implementation of all above codes\n",
    "class Node:\n",
    "    def __init__(self, item=None, next=None):\n",
    "        self.item = item\n",
    "        self.next = next\n",
    "        \n",
    "class SLL:\n",
    "    def __init__(self, start = None):\n",
    "        self.start = start\n",
    "        \n",
    "    def is_empty(self):\n",
    "        return self.start == None\n",
    "\n",
    "    def insert_at_start(self, data):\n",
    "        n = Node(data, self.start)\n",
    "        self.start = n\n",
    "\n",
    "    def insert_at_end(self, data):\n",
    "        n = Node(data)\n",
    "        if not self.is_empty():\n",
    "            temp = self.start\n",
    "            while temp.next is not None:\n",
    "                temp = temp.next\n",
    "            temp.next = n\n",
    "        else:\n",
    "            self.start = n\n",
    "\n",
    "    def search(self, data):\n",
    "        temp = self.start\n",
    "        while temp is not None:\n",
    "            if temp.item == data:\n",
    "                return temp\n",
    "            temp = temp.next\n",
    "        return None\n",
    "        \n",
    "    def insert_after(self, temp,  data):\n",
    "        if temp is not None:\n",
    "            n = Node(data, temp.next)\n",
    "            temp.next = n\n",
    "\n",
    "    def print_list(self):\n",
    "        print(\"Linked list: \",end= ' ')\n",
    "        temp = self.start\n",
    "        while temp is not None:\n",
    "            print(temp.item, end = ' ')\n",
    "            temp = temp.next\n",
    "            \n",
    "obj = SLL()\n",
    "obj.insert_at_start(10)\n",
    "obj.insert_at_start(20)\n",
    "obj.search(30)\n",
    "obj.insert_at_end(50)\n",
    "obj.print_list()"
   ]
  },
  {
   "cell_type": "code",
   "execution_count": 15,
   "id": "e0ee6651",
   "metadata": {},
   "outputs": [],
   "source": [
    "# Q9. In class SLL, define a method delete_first() to delete first element of the list.\n",
    "class Node:\n",
    "    def __init__(self, item=None, next=None):\n",
    "        self.item = item\n",
    "        self.next = next\n",
    "        \n",
    "class SLL:\n",
    "    def __init__(self, start = None):\n",
    "        self.start = start\n",
    "        \n",
    "    def is_empty(self):\n",
    "        return self.start == None\n",
    "    \n",
    "    def delete_first(self):\n",
    "        if self.start is not None:\n",
    "            self.start = self.start.next\n",
    "            \n",
    "    \n",
    "    def print_list(self):\n",
    "        print(\"Linked list: \",end= ' ')\n",
    "        temp = self.start\n",
    "        while temp is not None:\n",
    "            print(temp.item, end = ' ')\n",
    "            temp = temp.next\n"
   ]
  },
  {
   "cell_type": "code",
   "execution_count": 16,
   "id": "60522357",
   "metadata": {},
   "outputs": [],
   "source": [
    "# Q10. In class SLL, define a method delete_last() to delete last element of the list.\n",
    "class Node:\n",
    "    def __init__(self, item=None, next=None):\n",
    "        self.item = item\n",
    "        self.next = next\n",
    "        \n",
    "class SLL:\n",
    "    def __init__(self, start = None):\n",
    "        self.start = start\n",
    "        \n",
    "    def is_empty(self):\n",
    "        return self.start == None\n",
    "    \n",
    "    def delete_last(self):\n",
    "        if self.start is None:\n",
    "            pass\n",
    "        elif self.start.next is None:\n",
    "            self.start = None\n",
    "        else:\n",
    "            temp = self.start\n",
    "            while temp.next.next is not None:\n",
    "                temp = temp.next\n",
    "            temp.next = None"
   ]
  },
  {
   "cell_type": "code",
   "execution_count": null,
   "id": "c0fa1bcb",
   "metadata": {},
   "outputs": [],
   "source": [
    "# Q11. In class SLL, define a method delete_item() to delete specified element of the list.\n",
    "class Node:\n",
    "    def __init__(self, item=None, next=None):\n",
    "        self.item = item\n",
    "        self.next = next\n",
    "        \n",
    "class SLL:\n",
    "    def __init__(self, start = None):\n",
    "        self.start = start\n",
    "        \n",
    "    def is_empty(self):\n",
    "        return self.start == None\n",
    "    \n",
    "    def delete_item(self, data):\n",
    "        if self.start is None:\n",
    "            pass\n",
    "        elif self.start.next is None:\n",
    "            if self.start.item == data:\n",
    "                self.start = None\n",
    "        else:\n",
    "            temp = self.start\n",
    "            if temp.item == data:\n",
    "                self.start = temp.next\n",
    "            else:   \n",
    "                while temp.next is not None:\n",
    "                    if temp.next.item == data:\n",
    "                        temp.next = temp.next.next\n",
    "                        break\n",
    "                    temp = temp.next\n",
    "            temp.next = None"
   ]
  }
 ],
 "metadata": {
  "kernelspec": {
   "display_name": "Python 3 (ipykernel)",
   "language": "python",
   "name": "python3"
  },
  "language_info": {
   "codemirror_mode": {
    "name": "ipython",
    "version": 3
   },
   "file_extension": ".py",
   "mimetype": "text/x-python",
   "name": "python",
   "nbconvert_exporter": "python",
   "pygments_lexer": "ipython3",
   "version": "3.11.5"
  }
 },
 "nbformat": 4,
 "nbformat_minor": 5
}
