{
 "cells": [
  {
   "cell_type": "code",
   "execution_count": 1,
   "id": "12913c7d",
   "metadata": {},
   "outputs": [],
   "source": [
    "HM = {}"
   ]
  },
  {
   "cell_type": "code",
   "execution_count": 2,
   "id": "6567df00",
   "metadata": {},
   "outputs": [],
   "source": [
    "HM[\"Aashish\"] = \"20\"\n",
    "HM[\"Aasif\"] = \"21\"\n",
    "HM[\"Chetan\"] = \"26\"\n",
    "HM[\"Rahul\"] = \"24\"\n",
    "HM[\"Shivam\"] = \"22\""
   ]
  },
  {
   "cell_type": "code",
   "execution_count": 4,
   "id": "58feb49b",
   "metadata": {},
   "outputs": [
    {
     "name": "stdout",
     "output_type": "stream",
     "text": [
      "{'Aashish': '20', 'Aasif': '21', 'Chetan': '26', 'Rahul': '24', 'Shivam': '22'}\n"
     ]
    }
   ],
   "source": [
    "print(HM)"
   ]
  },
  {
   "cell_type": "code",
   "execution_count": 5,
   "id": "8e074433",
   "metadata": {},
   "outputs": [
    {
     "name": "stdout",
     "output_type": "stream",
     "text": [
      "21\n"
     ]
    }
   ],
   "source": [
    "print(HM[\"Aasif\"])"
   ]
  },
  {
   "cell_type": "code",
   "execution_count": 6,
   "id": "8d363992",
   "metadata": {},
   "outputs": [
    {
     "data": {
      "text/plain": [
       "'24'"
      ]
     },
     "execution_count": 6,
     "metadata": {},
     "output_type": "execute_result"
    }
   ],
   "source": [
    "#Deletion\n",
    "HM.pop(\"Rahul\")"
   ]
  },
  {
   "cell_type": "code",
   "execution_count": 7,
   "id": "53251ccd",
   "metadata": {},
   "outputs": [
    {
     "name": "stdout",
     "output_type": "stream",
     "text": [
      "{'Aashish': '20', 'Aasif': '21', 'Chetan': '26', 'Shivam': '22'}\n"
     ]
    }
   ],
   "source": [
    "print(HM)"
   ]
  },
  {
   "cell_type": "code",
   "execution_count": 8,
   "id": "3d6df0d6",
   "metadata": {},
   "outputs": [],
   "source": []
  },
  {
   "cell_type": "code",
   "execution_count": 18,
   "id": "86bfba7b",
   "metadata": {},
   "outputs": [],
   "source": [
    "def freq(s, k):\n",
    "    HM = {}\n",
    "    for char in s:\n",
    "        if char in HM:\n",
    "            HM[char] += 1\n",
    "        else:\n",
    "            HM[char] = 1\n",
    "    chars = []\n",
    "    for char in HM:\n",
    "        if HM[char] == k:\n",
    "            chars.append(char)\n",
    "    return chars"
   ]
  },
  {
   "cell_type": "code",
   "execution_count": 19,
   "id": "88684861",
   "metadata": {},
   "outputs": [],
   "source": [
    "stri = \"aabbggggkshghsf\"\n",
    "k = 2"
   ]
  },
  {
   "cell_type": "code",
   "execution_count": 20,
   "id": "e978507c",
   "metadata": {},
   "outputs": [
    {
     "data": {
      "text/plain": [
       "['a', 'b', 's', 'h']"
      ]
     },
     "execution_count": 20,
     "metadata": {},
     "output_type": "execute_result"
    }
   ],
   "source": [
    "freq(stri,k)"
   ]
  },
  {
   "cell_type": "code",
   "execution_count": null,
   "id": "a45ced76",
   "metadata": {},
   "outputs": [],
   "source": []
  }
 ],
 "metadata": {
  "kernelspec": {
   "display_name": "Python 3 (ipykernel)",
   "language": "python",
   "name": "python3"
  },
  "language_info": {
   "codemirror_mode": {
    "name": "ipython",
    "version": 3
   },
   "file_extension": ".py",
   "mimetype": "text/x-python",
   "name": "python",
   "nbconvert_exporter": "python",
   "pygments_lexer": "ipython3",
   "version": "3.11.5"
  }
 },
 "nbformat": 4,
 "nbformat_minor": 5
}
