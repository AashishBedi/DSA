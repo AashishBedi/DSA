{
 "cells": [
  {
   "cell_type": "markdown",
   "id": "ae5a8fbf",
   "metadata": {},
   "source": [
    "# Merge Intervals"
   ]
  },
  {
   "cell_type": "code",
   "execution_count": null,
   "id": "c36a689c",
   "metadata": {},
   "outputs": [],
   "source": [
    "class Solution:\n",
    "    def merge(self, intervals: List[List[int]]) -> List[List[int]]:\n",
    "        intervals.sort(key=lambda x:x[0])\n",
    "        output = [intervals[0]]\n",
    "\n",
    "        for start,end in intervals[1:]:\n",
    "            last = output[-1][1]\n",
    "            if start <= last:\n",
    "                output[-1][1] = max(last,end)\n",
    "            else:\n",
    "                output.append([start,end])\n",
    "        return output"
   ]
  },
  {
   "cell_type": "markdown",
   "id": "88979de2",
   "metadata": {},
   "source": [
    "# Insert Interval"
   ]
  },
  {
   "cell_type": "code",
   "execution_count": null,
   "id": "52411bce",
   "metadata": {},
   "outputs": [],
   "source": [
    "class Solution:\n",
    "    def insert(self, intervals: List[List[int]], newInterval: List[int]) -> List[List[int]]:\n",
    "        intervals.append(newInterval)\n",
    "        intervals.sort()\n",
    "        res = [intervals[0]]\n",
    "\n",
    "        for i in range(1, len(intervals)):\n",
    "            if res[-1][1] >= intervals[i][0]:\n",
    "                res[-1][1] = max(res[-1][1], intervals[i][1])\n",
    "            else:\n",
    "                res.append(intervals[i])\n",
    "        return res"
   ]
  },
  {
   "cell_type": "markdown",
   "id": "33029498",
   "metadata": {},
   "source": [
    "# Non-overlapping Intervals"
   ]
  },
  {
   "cell_type": "code",
   "execution_count": null,
   "id": "ec613a7d",
   "metadata": {},
   "outputs": [],
   "source": [
    "class Solution:\n",
    "    def eraseOverlapIntervals(self, intervals: List[List[int]]) -> int:\n",
    "        intervals.sort()\n",
    "        res = 0\n",
    "        prevEnd = intervals[0][1]\n",
    "\n",
    "        for start,end in intervals[1:]:\n",
    "            if start >= prevEnd:\n",
    "                prevEnd =  end\n",
    "            else:\n",
    "                res += 1\n",
    "                prevEnd = min(prevEnd, end)\n",
    "        return res"
   ]
  }
 ],
 "metadata": {
  "kernelspec": {
   "display_name": "Python 3 (ipykernel)",
   "language": "python",
   "name": "python3"
  },
  "language_info": {
   "codemirror_mode": {
    "name": "ipython",
    "version": 3
   },
   "file_extension": ".py",
   "mimetype": "text/x-python",
   "name": "python",
   "nbconvert_exporter": "python",
   "pygments_lexer": "ipython3",
   "version": "3.11.5"
  }
 },
 "nbformat": 4,
 "nbformat_minor": 5
}
