{
 "cells": [
  {
   "cell_type": "markdown",
   "id": "2ec08b73",
   "metadata": {},
   "source": [
    "# Reverse Linked List"
   ]
  },
  {
   "cell_type": "code",
   "execution_count": null,
   "id": "7e8ffce0",
   "metadata": {},
   "outputs": [],
   "source": [
    "class Solution:\n",
    "    def reverseList(self, head: Optional[ListNode]) -> Optional[ListNode]:\n",
    "        prev,curr = None, head\n",
    "        while curr:\n",
    "            temp = curr.next\n",
    "            curr.next = prev\n",
    "            prev = curr\n",
    "            curr = temp\n",
    "        return prev"
   ]
  },
  {
   "cell_type": "markdown",
   "id": "78703ad2",
   "metadata": {},
   "source": [
    "# Reverse Linked List II"
   ]
  },
  {
   "cell_type": "code",
   "execution_count": null,
   "id": "77505f15",
   "metadata": {},
   "outputs": [],
   "source": [
    "class Solution:\n",
    "    def reverseBetween(self, head: Optional[ListNode], left: int, right: int) -> Optional[ListNode]:\n",
    "        dummy = ListNode(0, head)\n",
    "        #1) reach node at left position\n",
    "        leftPrev, curr = dummy, head\n",
    "        for i in range(left-1):\n",
    "            leftPrev,curr = curr, curr.next\n",
    "\n",
    "        #Now curr=\"left\", leftPrev = \"node before left\"\n",
    "        #2) reverse from left to right\n",
    "        prev = None\n",
    "        for i in range(right-left+1):\n",
    "            temp = curr.next\n",
    "            curr.next = prev\n",
    "            prev = curr\n",
    "            curr = temp\n",
    "\n",
    "        #3) Update pointers\n",
    "        leftPrev.next.next = curr   #curr is node after \"right\"\n",
    "        leftPrev.next = prev        #prev is \"right\"\n",
    "        return dummy.next"
   ]
  },
  {
   "cell_type": "markdown",
   "id": "59a2ccc6",
   "metadata": {},
   "source": [
    "# Swap Nodes in Pairs"
   ]
  },
  {
   "cell_type": "code",
   "execution_count": null,
   "id": "b82474e7",
   "metadata": {},
   "outputs": [],
   "source": [
    "class Solution:\n",
    "    def swapPairs(self, head: Optional[ListNode]) -> Optional[ListNode]:\n",
    "        dummy = ListNode(0, head)\n",
    "        prev,curr = dummy, head \n",
    "\n",
    "        while curr and curr.next:\n",
    "            #save pointers\n",
    "            nxtPair = curr.next.next\n",
    "            second = curr.next\n",
    "\n",
    "            #reverse this pair\n",
    "            second.next = curr\n",
    "            curr.next = nxtPair\n",
    "            prev.next = second\n",
    "\n",
    "            #update ptrs\n",
    "            prev = curr\n",
    "            curr = nxtPair\n",
    "        return dummy.next"
   ]
  }
 ],
 "metadata": {
  "kernelspec": {
   "display_name": "Python 3 (ipykernel)",
   "language": "python",
   "name": "python3"
  },
  "language_info": {
   "codemirror_mode": {
    "name": "ipython",
    "version": 3
   },
   "file_extension": ".py",
   "mimetype": "text/x-python",
   "name": "python",
   "nbconvert_exporter": "python",
   "pygments_lexer": "ipython3",
   "version": "3.11.5"
  }
 },
 "nbformat": 4,
 "nbformat_minor": 5
}
