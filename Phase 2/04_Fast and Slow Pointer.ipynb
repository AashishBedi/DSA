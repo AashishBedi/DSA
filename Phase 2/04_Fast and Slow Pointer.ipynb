{
 "cells": [
  {
   "cell_type": "markdown",
   "id": "45662f37",
   "metadata": {},
   "source": [
    "# Linked List Cycle"
   ]
  },
  {
   "cell_type": "code",
   "execution_count": null,
   "id": "0d590361",
   "metadata": {
    "collapsed": true
   },
   "outputs": [],
   "source": [
    "class Solution:\n",
    "    def hasCycle(self, head: Optional[ListNode]) -> bool:\n",
    "        slow = head\n",
    "        fast = head\n",
    "\n",
    "        while fast and fast.next:\n",
    "            slow = slow.next\n",
    "            fast = fast.next.next\n",
    "            if slow == fast:\n",
    "                return True\n",
    "        return False"
   ]
  },
  {
   "cell_type": "markdown",
   "id": "64693275",
   "metadata": {},
   "source": [
    "# Find the Duplicate Number"
   ]
  },
  {
   "cell_type": "code",
   "execution_count": null,
   "id": "2e29a431",
   "metadata": {
    "collapsed": true
   },
   "outputs": [],
   "source": [
    "class Solution:\n",
    "    def findDuplicate(self, nums: List[int]) -> int:\n",
    "        slow = nums[0]\n",
    "        fast = nums[0]\n",
    "\n",
    "        while True:\n",
    "            slow = nums[slow]\n",
    "            fast = nums[nums[fast]]\n",
    "            if slow == fast:\n",
    "                break\n",
    "        \n",
    "        slow = nums[0]\n",
    "        while slow != fast:\n",
    "            slow = nums[slow]\n",
    "            fast = nums[fast]\n",
    "        return slow"
   ]
  },
  {
   "cell_type": "markdown",
   "id": "a39926cb",
   "metadata": {},
   "source": [
    "# Odd Even Linked List"
   ]
  },
  {
   "cell_type": "code",
   "execution_count": null,
   "id": "a6e667f4",
   "metadata": {},
   "outputs": [],
   "source": [
    "class Solution:\n",
    "    def oddEvenList(self, head: Optional[ListNode]) -> Optional[ListNode]:\n",
    "        if not head:\n",
    "            return head\n",
    "        odd = head\n",
    "        even= odd.next\n",
    "        evenHead= even\n",
    "\n",
    "        while even and even.next:\n",
    "            odd.next = even.next\n",
    "            odd = odd.next\n",
    "            even.next= odd.next\n",
    "            even = even.next\n",
    "        odd.next = evenHead\n",
    "        return head"
   ]
  }
 ],
 "metadata": {
  "kernelspec": {
   "display_name": "Python 3 (ipykernel)",
   "language": "python",
   "name": "python3"
  },
  "language_info": {
   "codemirror_mode": {
    "name": "ipython",
    "version": 3
   },
   "file_extension": ".py",
   "mimetype": "text/x-python",
   "name": "python",
   "nbconvert_exporter": "python",
   "pygments_lexer": "ipython3",
   "version": "3.11.5"
  }
 },
 "nbformat": 4,
 "nbformat_minor": 5
}
