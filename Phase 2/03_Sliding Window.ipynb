{
 "cells": [
  {
   "cell_type": "markdown",
   "id": "cc67b14a",
   "metadata": {},
   "source": [
    "# Maximum Average Subarray I"
   ]
  },
  {
   "cell_type": "code",
   "execution_count": null,
   "id": "6376a5b8",
   "metadata": {},
   "outputs": [],
   "source": [
    "class Solution:\n",
    "    def findMaxAverage(self, nums: List[int], k: int) -> float:\n",
    "        n = len(nums)\n",
    "        curr_sum = 0\n",
    "        for i in range(k):\n",
    "            curr_sum += nums[i]\n",
    "        max_avg = curr_sum/k\n",
    "\n",
    "        for i in range(k,n):\n",
    "            curr_sum += nums[i]\n",
    "            curr_sum -= nums[i-k]\n",
    "            avg = curr_sum/k\n",
    "            max_avg = max(max_avg, avg)\n",
    "        return max_avg"
   ]
  },
  {
   "cell_type": "markdown",
   "id": "4fb8c9ab",
   "metadata": {},
   "source": [
    "# Longest Substring Without Repeating Characters"
   ]
  },
  {
   "cell_type": "code",
   "execution_count": 1,
   "id": "4c32bf40",
   "metadata": {},
   "outputs": [],
   "source": [
    "class Solution:\n",
    "    def lengthOfLongestSubstring(self, s: str) -> int:\n",
    "        l = 0\n",
    "        sett = set()\n",
    "        longest = 0\n",
    "        for r in range(len(s)):\n",
    "            while s[r] in sett:\n",
    "                sett.remove(s[l])\n",
    "                l += 1\n",
    "            longest = max(longest, r-l+1)\n",
    "            sett.add(s[r])\n",
    "        return longest"
   ]
  },
  {
   "cell_type": "markdown",
   "id": "2a9cca36",
   "metadata": {},
   "source": [
    "# Subarray Product Less Than K"
   ]
  },
  {
   "cell_type": "code",
   "execution_count": null,
   "id": "69f3ae1b",
   "metadata": {},
   "outputs": [],
   "source": [
    "class Solution:\n",
    "    def numSubarrayProductLessThanK(self, nums: List[int], k: int) -> int:\n",
    "        if k<=1:\n",
    "            return 0\n",
    "        cnt = 0\n",
    "        l = 0\n",
    "        product = 1\n",
    "        for r in range(len(nums)):\n",
    "            product *= nums[r]\n",
    "            while product >= k:\n",
    "                product /= nums[l]\n",
    "                l += 1\n",
    "            cnt += r-l+1\n",
    "        return cnt"
   ]
  }
 ],
 "metadata": {
  "kernelspec": {
   "display_name": "Python 3 (ipykernel)",
   "language": "python",
   "name": "python3"
  },
  "language_info": {
   "codemirror_mode": {
    "name": "ipython",
    "version": 3
   },
   "file_extension": ".py",
   "mimetype": "text/x-python",
   "name": "python",
   "nbconvert_exporter": "python",
   "pygments_lexer": "ipython3",
   "version": "3.11.5"
  }
 },
 "nbformat": 4,
 "nbformat_minor": 5
}
