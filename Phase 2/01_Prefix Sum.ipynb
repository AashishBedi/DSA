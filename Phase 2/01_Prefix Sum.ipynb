{
 "cells": [
  {
   "cell_type": "code",
   "execution_count": 1,
   "id": "bb44ea6d",
   "metadata": {},
   "outputs": [],
   "source": [
    "def find_subarray_sum(array, i, j):\n",
    "    sub_sum = 0\n",
    "    \n",
    "    for k in range(i, j+1):\n",
    "        sub_sum += array[i]\n",
    "    return sub_sum"
   ]
  },
  {
   "cell_type": "code",
   "execution_count": 2,
   "id": "dab35f36",
   "metadata": {},
   "outputs": [],
   "source": [
    "def create_prefix_sum(arr):\n",
    "    for i in range(1, len(arr)):\n",
    "        arr[i] += arr[i-1]\n",
    "    return arr"
   ]
  },
  {
   "cell_type": "markdown",
   "id": "3183fdb0",
   "metadata": {},
   "source": [
    "# Range Sum Query - Immutable"
   ]
  },
  {
   "cell_type": "code",
   "execution_count": null,
   "id": "b559c1cc",
   "metadata": {},
   "outputs": [],
   "source": [
    "class NumArray:\n",
    "\n",
    "    def __init__(self, nums: List[int]):\n",
    "        self.nums = nums\n",
    "\n",
    "    def sumRange(self, left: int, right: int) -> int:\n",
    "        return sum(self.nums[left:right+1])"
   ]
  },
  {
   "cell_type": "markdown",
   "id": "4a13ddc3",
   "metadata": {},
   "source": [
    "# Contiguous Array"
   ]
  },
  {
   "cell_type": "code",
   "execution_count": null,
   "id": "7f7b241d",
   "metadata": {},
   "outputs": [],
   "source": [
    "class Solution:\n",
    "    def findMaxLength(self, nums: List[int]) -> int:\n",
    "        zero,one = 0,0\n",
    "        res = 0\n",
    "        diff_idx = {}\n",
    "\n",
    "        for i,n in enumerate(nums):\n",
    "            if n == 0:\n",
    "                zero += 1\n",
    "            if n == 1:\n",
    "                one += 1\n",
    "            if one-zero not in diff_idx:\n",
    "                diff_idx[one-zero] = i\n",
    "            \n",
    "            if one == zero:\n",
    "                res = one + zero\n",
    "            else:\n",
    "                idx = diff_idx[one - zero]\n",
    "                res = max(res, i - idx)\n",
    "        return res"
   ]
  },
  {
   "cell_type": "markdown",
   "id": "6974110c",
   "metadata": {},
   "source": [
    "# Subarray Sum Equals K"
   ]
  },
  {
   "cell_type": "code",
   "execution_count": null,
   "id": "99bbcb6a",
   "metadata": {},
   "outputs": [],
   "source": [
    "class Solution:\n",
    "    def subarraySum(self, nums: List[int], k: int) -> int:\n",
    "        res = 0\n",
    "        presum = defaultdict(int)\n",
    "        prefix = 0\n",
    "\n",
    "        for num in nums:\n",
    "            prefix += num\n",
    "            \n",
    "            if prefix == k:\n",
    "                res += 1\n",
    "            if prefix - k in presum:\n",
    "                res += presum[prefix - k]\n",
    "            presum[prefix] += 1\n",
    "        return res"
   ]
  }
 ],
 "metadata": {
  "kernelspec": {
   "display_name": "Python 3 (ipykernel)",
   "language": "python",
   "name": "python3"
  },
  "language_info": {
   "codemirror_mode": {
    "name": "ipython",
    "version": 3
   },
   "file_extension": ".py",
   "mimetype": "text/x-python",
   "name": "python",
   "nbconvert_exporter": "python",
   "pygments_lexer": "ipython3",
   "version": "3.11.5"
  }
 },
 "nbformat": 4,
 "nbformat_minor": 5
}
