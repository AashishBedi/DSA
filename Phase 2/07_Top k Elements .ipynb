{
 "cells": [
  {
   "cell_type": "markdown",
   "id": "2e382621",
   "metadata": {},
   "source": [
    "# Kth Largest Element in an Array(Max Heap)"
   ]
  },
  {
   "cell_type": "code",
   "execution_count": null,
   "id": "1c2059b3",
   "metadata": {},
   "outputs": [],
   "source": [
    "class Solution:\n",
    "    def findKthLargest(self, nums: List[int], k: int) -> int:\n",
    "        heap = nums[:k]\n",
    "        heapq.heapify(heap)\n",
    "\n",
    "        for num in nums[k:]:\n",
    "            if num>heap[0]:\n",
    "                heapq.heappop(heap)\n",
    "                heapq.heappush(heap, num)\n",
    "        return heap[0]"
   ]
  },
  {
   "cell_type": "markdown",
   "id": "a68619f3",
   "metadata": {},
   "source": [
    "# Top K Frequent Elements(Min Heap)"
   ]
  },
  {
   "cell_type": "code",
   "execution_count": null,
   "id": "f3403b96",
   "metadata": {},
   "outputs": [],
   "source": [
    "class Solution:\n",
    "    def topKFrequent(self, nums: List[int], k: int) -> List[int]:\n",
    "        heap = []\n",
    "        hm = {}\n",
    "\n",
    "        for n in nums:\n",
    "            hm[n] = 1 + hm.get(n, 0)\n",
    "        \n",
    "        for key,val in hm.items():\n",
    "            heapq.heappush(heap, (-val, key))\n",
    "        res = []\n",
    "        while len(res)<k:\n",
    "            res.append(heapq.heappop(heap)[1])\n",
    "        return res"
   ]
  }
 ],
 "metadata": {
  "kernelspec": {
   "display_name": "Python 3 (ipykernel)",
   "language": "python",
   "name": "python3"
  },
  "language_info": {
   "codemirror_mode": {
    "name": "ipython",
    "version": 3
   },
   "file_extension": ".py",
   "mimetype": "text/x-python",
   "name": "python",
   "nbconvert_exporter": "python",
   "pygments_lexer": "ipython3",
   "version": "3.11.5"
  }
 },
 "nbformat": 4,
 "nbformat_minor": 5
}
