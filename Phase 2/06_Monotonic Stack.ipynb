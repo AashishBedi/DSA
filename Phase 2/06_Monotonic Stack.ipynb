{
 "cells": [
  {
   "cell_type": "markdown",
   "id": "f388f656",
   "metadata": {},
   "source": [
    "# Next Greater Element"
   ]
  },
  {
   "cell_type": "code",
   "execution_count": 2,
   "id": "c84013ea",
   "metadata": {},
   "outputs": [
    {
     "name": "stdout",
     "output_type": "stream",
     "text": [
      "[4, 6, 7, 7, 7, -1]\n"
     ]
    }
   ],
   "source": [
    "nums = [1,4,6,3,2,7]\n",
    "n = len(nums)\n",
    "result = [-1]*n\n",
    "stack = []\n",
    "\n",
    "for i in range(n):\n",
    "    while stack and nums[i]>nums[stack[-1]]:\n",
    "        result[stack.pop()] = nums[i]\n",
    "    stack.append(i)\n",
    "print(result)"
   ]
  },
  {
   "cell_type": "markdown",
   "id": "8d008ced",
   "metadata": {},
   "source": [
    "# Next Greater Element I"
   ]
  },
  {
   "cell_type": "code",
   "execution_count": null,
   "id": "740f414f",
   "metadata": {},
   "outputs": [],
   "source": [
    "class Solution:\n",
    "    def nextGreaterElement(self, nums1: List[int], nums2: List[int]) -> List[int]:\n",
    "        res = [-1]*len(nums1)\n",
    "        nums1idx = {n:i for i,n in enumerate(nums1)}\n",
    "\n",
    "        for i in range(len(nums2)):\n",
    "            if nums2[i] not in nums1idx:\n",
    "                continue\n",
    "            for j in range(i+1, len(nums2)):\n",
    "                if nums2[j]>nums2[i]:\n",
    "                    idx = nums1idx[nums2[i]]\n",
    "                    res[idx] = nums2[j]\n",
    "                    break\n",
    "        return res"
   ]
  },
  {
   "cell_type": "markdown",
   "id": "79a75e89",
   "metadata": {},
   "source": [
    "# Daily Temperatures"
   ]
  },
  {
   "cell_type": "code",
   "execution_count": null,
   "id": "0a4f351b",
   "metadata": {},
   "outputs": [],
   "source": [
    "class Solution:\n",
    "    def dailyTemperatures(self, temp: List[int]) -> List[int]:\n",
    "        res = [0]*len(temp)\n",
    "        stack = []  #stores a pair: [temperature, index]\n",
    "\n",
    "        for i in range(len(temp)):\n",
    "            while stack and temp[i] > temp[stack[-1]]:\n",
    "                idx = stack.pop()\n",
    "                res[idx] = i - idx\n",
    "            stack.append(i)\n",
    "        return res"
   ]
  },
  {
   "cell_type": "markdown",
   "id": "862c7b66",
   "metadata": {},
   "source": [
    "# Largest Rectangle in Histogram"
   ]
  },
  {
   "cell_type": "code",
   "execution_count": null,
   "id": "949a77e0",
   "metadata": {},
   "outputs": [],
   "source": [
    "class Solution:\n",
    "    def largestRectangleArea(self, heights: List[int]) -> int:\n",
    "        maxArea = 0\n",
    "        stack = []\n",
    "\n",
    "        for i,h in enumerate(heights):\n",
    "            start = i\n",
    "            while stack and stack[-1][1] > h:\n",
    "                index, height = stack.pop()\n",
    "                maxArea = max(maxArea, height*(i-index))\n",
    "                start = index\n",
    "            stack.append((start, h))\n",
    "        for i,h in stack:\n",
    "            maxArea = max(maxArea, h*(len(heights) - i))\n",
    "        return maxArea"
   ]
  }
 ],
 "metadata": {
  "kernelspec": {
   "display_name": "Python 3 (ipykernel)",
   "language": "python",
   "name": "python3"
  },
  "language_info": {
   "codemirror_mode": {
    "name": "ipython",
    "version": 3
   },
   "file_extension": ".py",
   "mimetype": "text/x-python",
   "name": "python",
   "nbconvert_exporter": "python",
   "pygments_lexer": "ipython3",
   "version": "3.11.5"
  }
 },
 "nbformat": 4,
 "nbformat_minor": 5
}
