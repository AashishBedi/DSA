{
 "cells": [
  {
   "cell_type": "markdown",
   "id": "2097245a",
   "metadata": {},
   "source": [
    "# Search in Rotated Sorted Array"
   ]
  },
  {
   "cell_type": "code",
   "execution_count": null,
   "id": "3e947e95",
   "metadata": {},
   "outputs": [],
   "source": [
    "class Solution:\n",
    "    def search(self, nums: List[int], target: int) -> int:\n",
    "        l,r = 0, len(nums)-1\n",
    "        while l<=r:\n",
    "            mid = (l+r)//2\n",
    "            if nums[mid] == target:\n",
    "                return mid\n",
    "            if nums[l] <= nums[mid]:\n",
    "                if nums[l] <= target <= nums[mid]:\n",
    "                    r = mid-1\n",
    "                else:\n",
    "                    l = mid+1\n",
    "            else:\n",
    "                if nums[mid] < target <= nums[r]:\n",
    "                    l = mid+1\n",
    "                else:\n",
    "                    r = mid-1\n",
    "        return -1"
   ]
  },
  {
   "cell_type": "markdown",
   "id": "97f89839",
   "metadata": {},
   "source": [
    "# Find Minimum in Rotated Sorted Array"
   ]
  },
  {
   "cell_type": "code",
   "execution_count": null,
   "id": "9d79b872",
   "metadata": {},
   "outputs": [],
   "source": [
    "class Solution:\n",
    "    def findMin(self, nums: List[int]) -> int:\n",
    "        l,r = 0, len(nums)-1\n",
    "\n",
    "        while l<r:\n",
    "            mid = (l+r)//2\n",
    "            if nums[r] < nums[mid]:\n",
    "                l = mid+1\n",
    "            else:\n",
    "                r = mid\n",
    "        return nums[l]"
   ]
  },
  {
   "cell_type": "markdown",
   "id": "6deeca4a",
   "metadata": {},
   "source": [
    "# Search a 2D Matrix II"
   ]
  },
  {
   "cell_type": "code",
   "execution_count": null,
   "id": "e1c8b35d",
   "metadata": {},
   "outputs": [],
   "source": [
    "class Solution:\n",
    "    def searchMatrix(self, matrix: List[List[int]], target: int) -> bool:\n",
    "        m = len(matrix)\n",
    "        n = len(matrix[0])\n",
    "        i = m-1\n",
    "        j = 0\n",
    "        while i>=0 and j<n:\n",
    "            if matrix[i][j] == target:\n",
    "                return True\n",
    "            elif target > matrix[i][j]:\n",
    "                j = j + 1\n",
    "            else:\n",
    "                i = i - 1\n",
    "        return False"
   ]
  }
 ],
 "metadata": {
  "kernelspec": {
   "display_name": "Python 3 (ipykernel)",
   "language": "python",
   "name": "python3"
  },
  "language_info": {
   "codemirror_mode": {
    "name": "ipython",
    "version": 3
   },
   "file_extension": ".py",
   "mimetype": "text/x-python",
   "name": "python",
   "nbconvert_exporter": "python",
   "pygments_lexer": "ipython3",
   "version": "3.11.5"
  }
 },
 "nbformat": 4,
 "nbformat_minor": 5
}
