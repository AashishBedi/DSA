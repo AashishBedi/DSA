{
 "cells": [
  {
   "cell_type": "code",
   "execution_count": 4,
   "id": "f07ca7ce",
   "metadata": {},
   "outputs": [
    {
     "name": "stdout",
     "output_type": "stream",
     "text": [
      "[10, 20, 23, 30, 47, 50, 60, 80, 100]\n",
      "[10, 23, 20, 47, 30, 100, 80, 60, 50]\n",
      "[50, 30, 20, 10, 23, 47, 60, 80, 100]\n"
     ]
    },
    {
     "ename": "NameError",
     "evalue": "name 'search' is not defined",
     "output_type": "error",
     "traceback": [
      "\u001b[1;31m---------------------------------------------------------------------------\u001b[0m",
      "\u001b[1;31mNameError\u001b[0m                                 Traceback (most recent call last)",
      "Cell \u001b[1;32mIn[4], line 80\u001b[0m\n\u001b[0;32m     78\u001b[0m \u001b[38;5;28mprint\u001b[39m(bt\u001b[38;5;241m.\u001b[39mpostorder())\n\u001b[0;32m     79\u001b[0m \u001b[38;5;28mprint\u001b[39m(bt\u001b[38;5;241m.\u001b[39mpreorder())\n\u001b[1;32m---> 80\u001b[0m \u001b[38;5;28mprint\u001b[39m(search(\u001b[38;5;241m40\u001b[39m))\n",
      "\u001b[1;31mNameError\u001b[0m: name 'search' is not defined"
     ]
    }
   ],
   "source": [
    "class Node:\n",
    "    def __init__(self, item = None, left = None, right = None):\n",
    "        self.item = item\n",
    "        self.left = left\n",
    "        self.right = right\n",
    "        \n",
    "class BST:\n",
    "    def __init__(self):\n",
    "        self.root = None\n",
    "        \n",
    "    def R_insert(self, root, data):\n",
    "        if root is None:\n",
    "            return Node(data)\n",
    "        if data<root.item:\n",
    "            root.left = self.R_insert(root.left, data)\n",
    "        elif data > root.item:\n",
    "            root.right = self.R_insert(root.right, data)\n",
    "        return root\n",
    "    \n",
    "    def insert(self, data):\n",
    "        self.root = self.R_insert(self.root, data)\n",
    "        \n",
    "    def search(self, data):\n",
    "        return self.rsearch(self.root, data)\n",
    "    \n",
    "    def rsearch(self, root, data):\n",
    "        if root is None or root.item == data:\n",
    "            return root\n",
    "        if data < root.item:\n",
    "            return self.rsearch(root.left, data)\n",
    "        else:\n",
    "            return self.rsearch(root.right, data)\n",
    "        \n",
    "    def inorder(self):\n",
    "        result = []\n",
    "        self.rinorder(self.root, result)\n",
    "        return result\n",
    "    \n",
    "    def rinorder(self, root, result):\n",
    "        if root:\n",
    "            self.rinorder(root.left, result)\n",
    "            result.append(root.item)\n",
    "            self.rinorder(root.right, result)\n",
    "            \n",
    "    def preorder(self):\n",
    "        result = []\n",
    "        self.rpreorder(self.root, result)\n",
    "        return result\n",
    "    \n",
    "    def rpreorder(self, root, result):\n",
    "        if root:\n",
    "            result.append(root.item)\n",
    "            self.rpreorder(root.left, result)\n",
    "            self.rpreorder(root.right, result)\n",
    "            \n",
    "    def postorder(self):\n",
    "        result = []\n",
    "        self.rpostorder(self.root, result)\n",
    "        return result\n",
    "    \n",
    "    def rpostorder(self, root, result):\n",
    "        if root:\n",
    "            self.rpostorder(root.left, result)\n",
    "            self.rpostorder(root.right, result)\n",
    "            result.append(root.item)\n",
    "\n",
    "bt = BST()\n",
    "bt.insert(50)\n",
    "bt.insert(30)\n",
    "bt.insert(60)\n",
    "bt.insert(20)\n",
    "bt.insert(10)\n",
    "bt.insert(80)\n",
    "bt.insert(23)\n",
    "bt.insert(47)\n",
    "bt.insert(100)\n",
    "print(bt.inorder())\n",
    "print(bt.postorder())\n",
    "print(bt.preorder())\n",
    "print(search(40))"
   ]
  },
  {
   "cell_type": "code",
   "execution_count": null,
   "id": "39559b75",
   "metadata": {},
   "outputs": [],
   "source": []
  }
 ],
 "metadata": {
  "kernelspec": {
   "display_name": "Python 3 (ipykernel)",
   "language": "python",
   "name": "python3"
  },
  "language_info": {
   "codemirror_mode": {
    "name": "ipython",
    "version": 3
   },
   "file_extension": ".py",
   "mimetype": "text/x-python",
   "name": "python",
   "nbconvert_exporter": "python",
   "pygments_lexer": "ipython3",
   "version": "3.11.5"
  }
 },
 "nbformat": 4,
 "nbformat_minor": 5
}
