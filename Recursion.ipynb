{
 "cells": [
  {
   "cell_type": "code",
   "execution_count": 4,
   "id": "78535338",
   "metadata": {},
   "outputs": [
    {
     "name": "stdout",
     "output_type": "stream",
     "text": [
      "Enter n: 5\n",
      "15\n"
     ]
    }
   ],
   "source": [
    "#Q1. Sum of n natural numbers\n",
    "def f1(n):\n",
    "    if (n == 1):\n",
    "        return 1\n",
    "    s = n + f1(n-1)\n",
    "    return s\n",
    "\n",
    "n = int(input(\"Enter n: \"))\n",
    "r = f1(n)\n",
    "print(r)"
   ]
  },
  {
   "cell_type": "code",
   "execution_count": 10,
   "id": "ddb13b8f",
   "metadata": {},
   "outputs": [
    {
     "name": "stdout",
     "output_type": "stream",
     "text": [
      "Enter n: 8\n",
      "64\n"
     ]
    }
   ],
   "source": [
    "#Q2. Sum of n natural odd numbers\n",
    "def f2(n):\n",
    "    return n**2\n",
    "\n",
    "n = int(input(\"Enter n: \"))\n",
    "r = f2(n)\n",
    "print(r)\n"
   ]
  },
  {
   "cell_type": "code",
   "execution_count": 11,
   "id": "bdfb9eca",
   "metadata": {},
   "outputs": [
    {
     "name": "stdout",
     "output_type": "stream",
     "text": [
      "Enter n: 4\n",
      "20\n"
     ]
    }
   ],
   "source": [
    "#Q3. Sum of n natural even numbers\n",
    "def f3(n):\n",
    "    return n*(n+1)\n",
    "\n",
    "n = int(input(\"Enter n: \"))\n",
    "r = f3(n)\n",
    "print(r)\n"
   ]
  },
  {
   "cell_type": "code",
   "execution_count": 16,
   "id": "9c554d20",
   "metadata": {},
   "outputs": [
    {
     "name": "stdout",
     "output_type": "stream",
     "text": [
      "Enter a: 4\n",
      "24\n"
     ]
    }
   ],
   "source": [
    "#Q4. calculate factorial\n",
    "def fact(n):\n",
    "    if n == 1:\n",
    "        return 1\n",
    "    else:\n",
    "        f = n * fact(n-1)\n",
    "        return f\n",
    "    \n",
    "a = int(input(\"Enter a: \"))\n",
    "result = fact(a)\n",
    "print(result)"
   ]
  },
  {
   "cell_type": "code",
   "execution_count": 17,
   "id": "e04d0adc",
   "metadata": {},
   "outputs": [
    {
     "name": "stdout",
     "output_type": "stream",
     "text": [
      "Enter num: 5\n",
      "55\n"
     ]
    }
   ],
   "source": [
    "#Q5. Sum of squares of n natural numbers\n",
    "def sum_of_squares(n):\n",
    "    if (n == 1):\n",
    "        return 1\n",
    "    s = n**2 + sum_of_squares(n-1)\n",
    "    return s\n",
    "\n",
    "num = int(input(\"Enter num: \"))\n",
    "r = sum_of_squares(num)\n",
    "print(r)"
   ]
  },
  {
   "cell_type": "code",
   "execution_count": null,
   "id": "9c98b8b9",
   "metadata": {},
   "outputs": [],
   "source": []
  }
 ],
 "metadata": {
  "kernelspec": {
   "display_name": "Python 3 (ipykernel)",
   "language": "python",
   "name": "python3"
  },
  "language_info": {
   "codemirror_mode": {
    "name": "ipython",
    "version": 3
   },
   "file_extension": ".py",
   "mimetype": "text/x-python",
   "name": "python",
   "nbconvert_exporter": "python",
   "pygments_lexer": "ipython3",
   "version": "3.11.5"
  }
 },
 "nbformat": 4,
 "nbformat_minor": 5
}
