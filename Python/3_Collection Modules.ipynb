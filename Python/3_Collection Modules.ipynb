{
 "cells": [
  {
   "cell_type": "code",
   "execution_count": 1,
   "id": "2f1e2dbb",
   "metadata": {},
   "outputs": [],
   "source": [
    "from collections import Counter"
   ]
  },
  {
   "cell_type": "code",
   "execution_count": 2,
   "id": "a4f42170",
   "metadata": {},
   "outputs": [],
   "source": [
    "ml = [1,1,1,1,2,2,2,2,3,3,3,3,3,4,4,4,5,5,5,5]"
   ]
  },
  {
   "cell_type": "code",
   "execution_count": 3,
   "id": "edaa13ea",
   "metadata": {},
   "outputs": [
    {
     "data": {
      "text/plain": [
       "Counter({3: 5, 1: 4, 2: 4, 5: 4, 4: 3})"
      ]
     },
     "execution_count": 3,
     "metadata": {},
     "output_type": "execute_result"
    }
   ],
   "source": [
    "Counter(ml)"
   ]
  },
  {
   "cell_type": "code",
   "execution_count": 10,
   "id": "487acfc1",
   "metadata": {},
   "outputs": [],
   "source": [
    "ml3 = Counter('aabbjjjjrrrdkdfkdsfklfjdksfj')"
   ]
  },
  {
   "cell_type": "code",
   "execution_count": 6,
   "id": "bed45fec",
   "metadata": {},
   "outputs": [
    {
     "data": {
      "text/plain": [
       "Counter({10: 3, 'a': 2})"
      ]
     },
     "execution_count": 6,
     "metadata": {},
     "output_type": "execute_result"
    }
   ],
   "source": [
    "ml2 = ['a','a',10,10,10]\n",
    "Counter(ml2)"
   ]
  },
  {
   "cell_type": "code",
   "execution_count": 7,
   "id": "87758e40",
   "metadata": {},
   "outputs": [
    {
     "data": {
      "text/plain": [
       "Counter({'as': 2,\n",
       "         'how': 1,\n",
       "         'are': 1,\n",
       "         'everyone': 1,\n",
       "         'doing': 1,\n",
       "         'their': 1,\n",
       "         'project': 1,\n",
       "         'well': 1,\n",
       "         'job': 1})"
      ]
     },
     "execution_count": 7,
     "metadata": {},
     "output_type": "execute_result"
    }
   ],
   "source": [
    "sentence = \"How are everyone doing their project as well as job\"\n",
    "Counter(sentence.lower().split())"
   ]
  },
  {
   "cell_type": "code",
   "execution_count": 11,
   "id": "28c87583",
   "metadata": {},
   "outputs": [
    {
     "data": {
      "text/plain": [
       "[('j', 6),\n",
       " ('d', 4),\n",
       " ('k', 4),\n",
       " ('f', 4),\n",
       " ('r', 3),\n",
       " ('a', 2),\n",
       " ('b', 2),\n",
       " ('s', 2),\n",
       " ('l', 1)]"
      ]
     },
     "execution_count": 11,
     "metadata": {},
     "output_type": "execute_result"
    }
   ],
   "source": [
    "ml3.most_common()"
   ]
  },
  {
   "cell_type": "code",
   "execution_count": 12,
   "id": "c3eaead9",
   "metadata": {},
   "outputs": [
    {
     "data": {
      "text/plain": [
       "[('j', 6), ('d', 4)]"
      ]
     },
     "execution_count": 12,
     "metadata": {},
     "output_type": "execute_result"
    }
   ],
   "source": [
    "ml3.most_common(2)"
   ]
  },
  {
   "cell_type": "code",
   "execution_count": null,
   "id": "7642d1c4",
   "metadata": {},
   "outputs": [],
   "source": []
  },
  {
   "cell_type": "code",
   "execution_count": null,
   "id": "379a48c4",
   "metadata": {},
   "outputs": [],
   "source": []
  },
  {
   "cell_type": "code",
   "execution_count": 13,
   "id": "f1dabe73",
   "metadata": {},
   "outputs": [],
   "source": [
    "from collections import defaultdict"
   ]
  },
  {
   "cell_type": "code",
   "execution_count": 14,
   "id": "602a90ef",
   "metadata": {},
   "outputs": [],
   "source": [
    "d = {'a':10,'b':20,'c':30,'d':40}"
   ]
  },
  {
   "cell_type": "code",
   "execution_count": 15,
   "id": "32de98a7",
   "metadata": {},
   "outputs": [
    {
     "data": {
      "text/plain": [
       "{'a': 10, 'b': 20, 'c': 30, 'd': 40}"
      ]
     },
     "execution_count": 15,
     "metadata": {},
     "output_type": "execute_result"
    }
   ],
   "source": [
    "d"
   ]
  },
  {
   "cell_type": "code",
   "execution_count": 16,
   "id": "dcbf5d3f",
   "metadata": {},
   "outputs": [
    {
     "data": {
      "text/plain": [
       "10"
      ]
     },
     "execution_count": 16,
     "metadata": {},
     "output_type": "execute_result"
    }
   ],
   "source": [
    "d['a']"
   ]
  },
  {
   "cell_type": "code",
   "execution_count": 17,
   "id": "d620f7e5",
   "metadata": {},
   "outputs": [],
   "source": [
    "d = defaultdict(lambda: 0)"
   ]
  },
  {
   "cell_type": "code",
   "execution_count": 18,
   "id": "93df998f",
   "metadata": {},
   "outputs": [],
   "source": [
    "d['correct'] = 100"
   ]
  },
  {
   "cell_type": "code",
   "execution_count": 19,
   "id": "13f17eee",
   "metadata": {},
   "outputs": [
    {
     "data": {
      "text/plain": [
       "100"
      ]
     },
     "execution_count": 19,
     "metadata": {},
     "output_type": "execute_result"
    }
   ],
   "source": [
    "d['correct']"
   ]
  },
  {
   "cell_type": "code",
   "execution_count": 20,
   "id": "f8c28602",
   "metadata": {},
   "outputs": [
    {
     "data": {
      "text/plain": [
       "0"
      ]
     },
     "execution_count": 20,
     "metadata": {},
     "output_type": "execute_result"
    }
   ],
   "source": [
    "d['amamama']"
   ]
  },
  {
   "cell_type": "code",
   "execution_count": 21,
   "id": "6d53522a",
   "metadata": {},
   "outputs": [
    {
     "data": {
      "text/plain": [
       "defaultdict(<function __main__.<lambda>()>, {'correct': 100, 'amamama': 0})"
      ]
     },
     "execution_count": 21,
     "metadata": {},
     "output_type": "execute_result"
    }
   ],
   "source": [
    "d"
   ]
  },
  {
   "cell_type": "code",
   "execution_count": null,
   "id": "9cab65c2",
   "metadata": {},
   "outputs": [],
   "source": []
  },
  {
   "cell_type": "code",
   "execution_count": null,
   "id": "32b13b4a",
   "metadata": {},
   "outputs": [],
   "source": []
  },
  {
   "cell_type": "code",
   "execution_count": 22,
   "id": "fc73ecbd",
   "metadata": {},
   "outputs": [],
   "source": [
    "from collections import namedtuple"
   ]
  },
  {
   "cell_type": "code",
   "execution_count": 23,
   "id": "c02e7f5b",
   "metadata": {},
   "outputs": [],
   "source": [
    "Dog = namedtuple('Dog',['age','breed','name'])"
   ]
  },
  {
   "cell_type": "code",
   "execution_count": 24,
   "id": "d1ecc955",
   "metadata": {},
   "outputs": [],
   "source": [
    "bella = Dog(age=1,breed='Culture Pom', name='Bellu Bandri')"
   ]
  },
  {
   "cell_type": "code",
   "execution_count": 25,
   "id": "34cd4e7a",
   "metadata": {},
   "outputs": [
    {
     "data": {
      "text/plain": [
       "__main__.Dog"
      ]
     },
     "execution_count": 25,
     "metadata": {},
     "output_type": "execute_result"
    }
   ],
   "source": [
    "type(bella)"
   ]
  },
  {
   "cell_type": "code",
   "execution_count": 26,
   "id": "6dfd6843",
   "metadata": {},
   "outputs": [
    {
     "data": {
      "text/plain": [
       "Dog(age=1, breed='Culture Pom', name='Bellu Bandri')"
      ]
     },
     "execution_count": 26,
     "metadata": {},
     "output_type": "execute_result"
    }
   ],
   "source": [
    "bella"
   ]
  },
  {
   "cell_type": "code",
   "execution_count": 27,
   "id": "c4b46d27",
   "metadata": {},
   "outputs": [
    {
     "data": {
      "text/plain": [
       "1"
      ]
     },
     "execution_count": 27,
     "metadata": {},
     "output_type": "execute_result"
    }
   ],
   "source": [
    "bella.age"
   ]
  },
  {
   "cell_type": "code",
   "execution_count": 28,
   "id": "15160d61",
   "metadata": {},
   "outputs": [
    {
     "data": {
      "text/plain": [
       "'Culture Pom'"
      ]
     },
     "execution_count": 28,
     "metadata": {},
     "output_type": "execute_result"
    }
   ],
   "source": [
    "bella.breed"
   ]
  },
  {
   "cell_type": "code",
   "execution_count": 29,
   "id": "f50fc242",
   "metadata": {},
   "outputs": [
    {
     "data": {
      "text/plain": [
       "'Bellu Bandri'"
      ]
     },
     "execution_count": 29,
     "metadata": {},
     "output_type": "execute_result"
    }
   ],
   "source": [
    "bella[2]"
   ]
  },
  {
   "cell_type": "code",
   "execution_count": null,
   "id": "3d0195e5",
   "metadata": {},
   "outputs": [],
   "source": []
  }
 ],
 "metadata": {
  "kernelspec": {
   "display_name": "Python 3 (ipykernel)",
   "language": "python",
   "name": "python3"
  },
  "language_info": {
   "codemirror_mode": {
    "name": "ipython",
    "version": 3
   },
   "file_extension": ".py",
   "mimetype": "text/x-python",
   "name": "python",
   "nbconvert_exporter": "python",
   "pygments_lexer": "ipython3",
   "version": "3.11.5"
  }
 },
 "nbformat": 4,
 "nbformat_minor": 5
}
