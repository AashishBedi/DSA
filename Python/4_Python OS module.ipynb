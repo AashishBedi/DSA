{
 "cells": [
  {
   "cell_type": "code",
   "execution_count": 1,
   "id": "67cdf739",
   "metadata": {},
   "outputs": [
    {
     "data": {
      "text/plain": [
       "'C:\\\\Users\\\\91798\\\\Desktop\\\\ROADMAP\\\\DATA ENGINEERING\\\\1_PYTHON'"
      ]
     },
     "execution_count": 1,
     "metadata": {},
     "output_type": "execute_result"
    }
   ],
   "source": [
    "pwd"
   ]
  },
  {
   "cell_type": "code",
   "execution_count": 2,
   "id": "2d692727",
   "metadata": {},
   "outputs": [],
   "source": [
    "f = open('practice.txt', 'w+')\n",
    "f.write('this is a practice string')\n",
    "f.close()"
   ]
  },
  {
   "cell_type": "code",
   "execution_count": 3,
   "id": "0df16e84",
   "metadata": {},
   "outputs": [],
   "source": [
    "import os"
   ]
  },
  {
   "cell_type": "code",
   "execution_count": 4,
   "id": "c0efb385",
   "metadata": {},
   "outputs": [
    {
     "data": {
      "text/plain": [
       "'C:\\\\Users\\\\91798\\\\Desktop\\\\ROADMAP\\\\DATA ENGINEERING\\\\1_PYTHON'"
      ]
     },
     "execution_count": 4,
     "metadata": {},
     "output_type": "execute_result"
    }
   ],
   "source": [
    "os.getcwd()"
   ]
  },
  {
   "cell_type": "code",
   "execution_count": 5,
   "id": "7ec29949",
   "metadata": {},
   "outputs": [
    {
     "data": {
      "text/plain": [
       "['.ipynb_checkpoints',\n",
       " '10_Generators.ipynb',\n",
       " '11_Collection Modules.ipynb',\n",
       " '12_Python OS module.ipynb',\n",
       " '1_Hello.py',\n",
       " '2_variable_assign.py',\n",
       " '3_Strings.py',\n",
       " '4_if_else.py',\n",
       " '5_cont_brk_pass.py',\n",
       " '6_ass.py',\n",
       " '7_Logic.py',\n",
       " '8_trying.py',\n",
       " '9_Decorators.ipynb',\n",
       " 'HARRY',\n",
       " 'IDE',\n",
       " 'practice.txt',\n",
       " 'PROJECTS',\n",
       " 'PYTHON']"
      ]
     },
     "execution_count": 5,
     "metadata": {},
     "output_type": "execute_result"
    }
   ],
   "source": [
    "os.listdir()"
   ]
  },
  {
   "cell_type": "code",
   "execution_count": 6,
   "id": "8e5c5349",
   "metadata": {},
   "outputs": [
    {
     "data": {
      "text/plain": [
       "['91798',\n",
       " 'All Users',\n",
       " 'Default',\n",
       " 'Default User',\n",
       " 'defaultuser100000',\n",
       " 'desktop.ini',\n",
       " 'Public']"
      ]
     },
     "execution_count": 6,
     "metadata": {},
     "output_type": "execute_result"
    }
   ],
   "source": [
    "os.listdir('C:\\\\Users')"
   ]
  },
  {
   "cell_type": "code",
   "execution_count": 7,
   "id": "21937bd7",
   "metadata": {},
   "outputs": [],
   "source": [
    "import shutil"
   ]
  },
  {
   "cell_type": "code",
   "execution_count": 8,
   "id": "dbcb8fff",
   "metadata": {},
   "outputs": [
    {
     "data": {
      "text/plain": [
       "<function shutil.move(src, dst, copy_function=<function copy2 at 0x0000028677A9FD80>)>"
      ]
     },
     "execution_count": 8,
     "metadata": {},
     "output_type": "execute_result"
    }
   ],
   "source": [
    "shutil.move"
   ]
  },
  {
   "cell_type": "code",
   "execution_count": 9,
   "id": "7968e959",
   "metadata": {},
   "outputs": [
    {
     "data": {
      "text/plain": [
       "'C:\\\\Users\\\\91798\\\\Desktop\\\\ROADMAP\\\\DATA ENGINEERING\\\\1_PYTHON\\\\PYTHON\\\\practice.txt'"
      ]
     },
     "execution_count": 9,
     "metadata": {},
     "output_type": "execute_result"
    }
   ],
   "source": [
    "shutil.move('practice.txt','C:\\\\Users\\\\91798\\\\Desktop\\\\ROADMAP\\\\DATA ENGINEERING\\\\1_PYTHON\\\\PYTHON')"
   ]
  },
  {
   "cell_type": "code",
   "execution_count": 11,
   "id": "424829ef",
   "metadata": {},
   "outputs": [
    {
     "data": {
      "text/plain": [
       "['practice.txt',\n",
       " 'Unit-1 Python',\n",
       " 'unit-4 python',\n",
       " 'unit2 python',\n",
       " 'unit3 python',\n",
       " 'unit5 python',\n",
       " 'unit6 python']"
      ]
     },
     "execution_count": 11,
     "metadata": {},
     "output_type": "execute_result"
    }
   ],
   "source": [
    "os.listdir('C:\\\\Users\\\\91798\\\\Desktop\\\\ROADMAP\\\\DATA ENGINEERING\\\\1_PYTHON\\\\PYTHON')"
   ]
  },
  {
   "cell_type": "markdown",
   "id": "2d2e69f3",
   "metadata": {},
   "source": [
    "# Deleting files"
   ]
  },
  {
   "cell_type": "code",
   "execution_count": 12,
   "id": "a032f8c3",
   "metadata": {},
   "outputs": [
    {
     "name": "stdout",
     "output_type": "stream",
     "text": [
      "Requirement already satisfied: send2trash in c:\\users\\91798\\anaconda3\\new folder\\lib\\site-packages (1.8.0)\n",
      "Note: you may need to restart the kernel to use updated packages.\n"
     ]
    }
   ],
   "source": [
    "pip install send2trash"
   ]
  },
  {
   "cell_type": "code",
   "execution_count": 13,
   "id": "50e063b7",
   "metadata": {},
   "outputs": [],
   "source": [
    "import send2trash"
   ]
  },
  {
   "cell_type": "code",
   "execution_count": 14,
   "id": "85fb032c",
   "metadata": {},
   "outputs": [
    {
     "data": {
      "text/plain": [
       "['.ipynb_checkpoints',\n",
       " '10_Generators.ipynb',\n",
       " '11_Collection Modules.ipynb',\n",
       " '12_Python OS module.ipynb',\n",
       " '1_Hello.py',\n",
       " '2_variable_assign.py',\n",
       " '3_Strings.py',\n",
       " '4_if_else.py',\n",
       " '5_cont_brk_pass.py',\n",
       " '6_ass.py',\n",
       " '7_Logic.py',\n",
       " '8_trying.py',\n",
       " '9_Decorators.ipynb',\n",
       " 'HARRY',\n",
       " 'IDE',\n",
       " 'PROJECTS',\n",
       " 'PYTHON']"
      ]
     },
     "execution_count": 14,
     "metadata": {},
     "output_type": "execute_result"
    }
   ],
   "source": [
    "os.listdir()"
   ]
  },
  {
   "cell_type": "code",
   "execution_count": 17,
   "id": "19ec31ae",
   "metadata": {},
   "outputs": [
    {
     "data": {
      "text/plain": [
       "'C:\\\\Users\\\\91798\\\\Desktop\\\\ROADMAP\\\\DATA ENGINEERING\\\\1_PYTHON\\\\practice.txt'"
      ]
     },
     "execution_count": 17,
     "metadata": {},
     "output_type": "execute_result"
    }
   ],
   "source": [
    "shutil.move('C:\\\\Users\\\\91798\\\\Desktop\\\\ROADMAP\\\\DATA ENGINEERING\\\\1_PYTHON\\\\PYTHON\\\\practice.txt','C:\\\\Users\\\\91798\\\\Desktop\\\\ROADMAP\\\\DATA ENGINEERING\\\\1_PYTHON')"
   ]
  },
  {
   "cell_type": "code",
   "execution_count": 18,
   "id": "e3f32aaf",
   "metadata": {},
   "outputs": [
    {
     "data": {
      "text/plain": [
       "['.ipynb_checkpoints',\n",
       " '10_Generators.ipynb',\n",
       " '11_Collection Modules.ipynb',\n",
       " '12_Python OS module.ipynb',\n",
       " '1_Hello.py',\n",
       " '2_variable_assign.py',\n",
       " '3_Strings.py',\n",
       " '4_if_else.py',\n",
       " '5_cont_brk_pass.py',\n",
       " '6_ass.py',\n",
       " '7_Logic.py',\n",
       " '8_trying.py',\n",
       " '9_Decorators.ipynb',\n",
       " 'HARRY',\n",
       " 'IDE',\n",
       " 'practice.txt',\n",
       " 'PROJECTS',\n",
       " 'PYTHON']"
      ]
     },
     "execution_count": 18,
     "metadata": {},
     "output_type": "execute_result"
    }
   ],
   "source": [
    "os.listdir()"
   ]
  },
  {
   "cell_type": "code",
   "execution_count": 19,
   "id": "dd336495",
   "metadata": {},
   "outputs": [],
   "source": [
    "send2trash.send2trash('practice.txt')"
   ]
  },
  {
   "cell_type": "code",
   "execution_count": 20,
   "id": "4fa100b2",
   "metadata": {},
   "outputs": [
    {
     "data": {
      "text/plain": [
       "['.ipynb_checkpoints',\n",
       " '10_Generators.ipynb',\n",
       " '11_Collection Modules.ipynb',\n",
       " '12_Python OS module.ipynb',\n",
       " '1_Hello.py',\n",
       " '2_variable_assign.py',\n",
       " '3_Strings.py',\n",
       " '4_if_else.py',\n",
       " '5_cont_brk_pass.py',\n",
       " '6_ass.py',\n",
       " '7_Logic.py',\n",
       " '8_trying.py',\n",
       " '9_Decorators.ipynb',\n",
       " 'HARRY',\n",
       " 'IDE',\n",
       " 'PROJECTS',\n",
       " 'PYTHON']"
      ]
     },
     "execution_count": 20,
     "metadata": {},
     "output_type": "execute_result"
    }
   ],
   "source": [
    "os.listdir()"
   ]
  },
  {
   "cell_type": "code",
   "execution_count": 21,
   "id": "7b7e920c",
   "metadata": {},
   "outputs": [
    {
     "data": {
      "text/plain": [
       "'C:\\\\Users\\\\91798\\\\Desktop\\\\ROADMAP\\\\DATA ENGINEERING\\\\1_PYTHON'"
      ]
     },
     "execution_count": 21,
     "metadata": {},
     "output_type": "execute_result"
    }
   ],
   "source": [
    "os.getcwd()"
   ]
  },
  {
   "cell_type": "code",
   "execution_count": 25,
   "id": "bcc9728f",
   "metadata": {},
   "outputs": [],
   "source": [
    "filePath = 'C:\\\\Users\\\\91798\\\\Desktop\\\\ROADMAP\\\\DATA ENGINEERING\\\\1_PYTHON\\\\PYTHON'"
   ]
  },
  {
   "cell_type": "code",
   "execution_count": 26,
   "id": "c09c53d2",
   "metadata": {},
   "outputs": [
    {
     "name": "stdout",
     "output_type": "stream",
     "text": [
      "Currently looking at C:\\Users\\91798\\Desktop\\ROADMAP\\DATA ENGINEERING\\1_PYTHON\\PYTHON\n",
      "\n",
      "\n",
      "The subfoders are: \n",
      "Subfolders: Unit-1 Python\n",
      "Subfolders: unit-4 python\n",
      "Subfolders: unit2 python\n",
      "Subfolders: unit3 python\n",
      "Subfolders: unit5 python\n",
      "Subfolders: unit6 python\n",
      "\n",
      "\n",
      "The files are: \n",
      "\n",
      "\n",
      "Currently looking at C:\\Users\\91798\\Desktop\\ROADMAP\\DATA ENGINEERING\\1_PYTHON\\PYTHON\\Unit-1 Python\n",
      "\n",
      "\n",
      "The subfoders are: \n",
      "\n",
      "\n",
      "The files are: \n",
      "\t File: 3 PYTHONDatatypesDataConversion.pptx\n",
      "\t File: 4 PYTHONDataConversion.pptx\n",
      "\t File: 5 PYTHONReadingInput.pptx\n",
      "\t File: 6 PYTHONBitwiseOperators.pptx\n",
      "\n",
      "\n",
      "Currently looking at C:\\Users\\91798\\Desktop\\ROADMAP\\DATA ENGINEERING\\1_PYTHON\\PYTHON\\unit-4 python\n",
      "\n",
      "\n",
      "The subfoders are: \n",
      "\n",
      "\n",
      "The files are: \n",
      "\t File: 4.1 PYTHONIntroduction to Strings.pptx\n",
      "\t File: 4.10 PYTHONBuiltin Dictionary Functions.pptx\n",
      "\t File: 4.11 PYTHONBuiltin Dictionary Methods.pptx\n",
      "\t File: 4.14 PYTHONList Comprehensions.pptx\n",
      "\t File: 4.16 PYTHONDictionary Comprehension.pptx\n",
      "\t File: 4.17 PYTHONSparseMatricescopyingaliasing.pptx\n",
      "\t File: 4.2 PYTHONBuiltin String Methods.pptx\n",
      "\t File: 4.3 PYTHONIntroduction to Lists.pptx\n",
      "\t File: 4.5 PYTHONBuiltin List Functions.pptx\n",
      "\t File: 4.6 PYTHONList Methods.pptx\n",
      "\t File: 4.7 PYTHONTuples.pptx\n",
      "\t File: 4.8 PYTHONBuiltin Tuple functions.pptx\n",
      "\t File: 4.9 PYTHONIntroduction to Dictionaries_ Basic Dictionary Operations.pptx\n",
      "\n",
      "\n",
      "Currently looking at C:\\Users\\91798\\Desktop\\ROADMAP\\DATA ENGINEERING\\1_PYTHON\\PYTHON\\unit2 python\n",
      "\n",
      "\n",
      "The subfoders are: \n",
      "\n",
      "\n",
      "The files are: \n",
      "\t File: 2.1 PYTHON Basics.ppt\n",
      "\t File: 2.10 PYTHONIntroductionToNumbers.pptx\n",
      "\t File: 2.11 PYTHONMathematical and random functions.pptx\n",
      "\t File: 2.12 PYTHONTrigonometric functions and mathematical constants.pptx\n",
      "\t File: 2.4 PYTHONWhile Loop.pptx\n",
      "\t File: 2.5 PYTHONFor Loop.pptx\n",
      "\t File: 2.6 PYTHONBreak Statement.pptx\n",
      "\t File: 2.7 PYTHONContinue Statement.pptx\n",
      "\t File: 2.8 PYTHONPass.pptx\n",
      "\t File: 2.9 PYTHONPracticeProblems.pptx\n",
      "\n",
      "\n",
      "Currently looking at C:\\Users\\91798\\Desktop\\ROADMAP\\DATA ENGINEERING\\1_PYTHON\\PYTHON\\unit3 python\n",
      "\n",
      "\n",
      "The subfoders are: \n",
      "\n",
      "\n",
      "The files are: \n",
      "\t File: 3.1 PYTHONBasics of Functions.pptx\n",
      "\t File: 3.14 PYTHONPython Math Module.pptx\n",
      "\t File: 3.2 PYTHONParameters and Arguments_ Keyword Arguments.pptx\n",
      "\t File: 3.3 PYTHONDefaultArgsVarLenArgs.pptx\n",
      "\t File: 3.4 PYTHONAnonymous Functions.pptx\n",
      "\t File: 3.5 PYTHONFruitful Functions.pptx\n",
      "\t File: 3.6 PYTHONGlobal local variables and Function composition.pptx\n",
      "\t File: 3.7 PYTHONRecursion.pptx\n",
      "\t File: 3.8 PYTHONPracticeProblems.pptx\n",
      "\n",
      "\n",
      "Currently looking at C:\\Users\\91798\\Desktop\\ROADMAP\\DATA ENGINEERING\\1_PYTHON\\PYTHON\\unit5 python\n",
      "\n",
      "\n",
      "The subfoders are: \n",
      "\n",
      "\n",
      "The files are: \n",
      "\t File: U5 L1 Class.pptx\n",
      "\t File: U5 L2 self variables.docx\n",
      "\t File: U5 L3 Constructors.docx\n",
      "\t File: U5 L4 methods.docx\n",
      "\t File: U5 L5 Inheritance.docx\n",
      "\t File: U5 L6 Overriding methods.docx\n",
      "\t File: U5 L7 Data Hiding.docx\n",
      "\n",
      "\n",
      "Currently looking at C:\\Users\\91798\\Desktop\\ROADMAP\\DATA ENGINEERING\\1_PYTHON\\PYTHON\\unit6 python\n",
      "\n",
      "\n",
      "The subfoders are: \n",
      "\n",
      "\n",
      "The files are: \n",
      "\t File: L1.docx\n",
      "\t File: L2.docx\n",
      "\t File: L3.docx\n",
      "\t File: L4.docx\n",
      "\t File: L5 part1.docx\n",
      "\t File: L5 part2.docx\n",
      "\t File: L6.docx\n",
      "\t File: L7 Part 1.docx\n",
      "\t File: L7 Part 2.docx\n",
      "\n",
      "\n"
     ]
    }
   ],
   "source": [
    "for fol, sub_fol, files in os.walk(filePath):\n",
    "    print(f\"Currently looking at {fol}\")\n",
    "    print('\\n')\n",
    "    print('The subfoders are: ')\n",
    "    for sub_fold in sub_fol:\n",
    "        print(f\"Subfolders: {sub_fold}\")\n",
    "        \n",
    "    print('\\n')\n",
    "    print(\"The files are: \")\n",
    "    for f in files:\n",
    "        print(f\"\\t File: {f}\")\n",
    "    print('\\n')"
   ]
  },
  {
   "cell_type": "code",
   "execution_count": null,
   "id": "74f2b8b4",
   "metadata": {},
   "outputs": [],
   "source": []
  },
  {
   "cell_type": "code",
   "execution_count": null,
   "id": "cdd864a1",
   "metadata": {},
   "outputs": [],
   "source": []
  }
 ],
 "metadata": {
  "kernelspec": {
   "display_name": "Python 3 (ipykernel)",
   "language": "python",
   "name": "python3"
  },
  "language_info": {
   "codemirror_mode": {
    "name": "ipython",
    "version": 3
   },
   "file_extension": ".py",
   "mimetype": "text/x-python",
   "name": "python",
   "nbconvert_exporter": "python",
   "pygments_lexer": "ipython3",
   "version": "3.11.5"
  }
 },
 "nbformat": 4,
 "nbformat_minor": 5
}
