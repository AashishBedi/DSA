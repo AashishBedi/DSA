{
 "cells": [
  {
   "cell_type": "markdown",
   "id": "c1678535",
   "metadata": {},
   "source": [
    "# Example\n",
    "Phone number:\n",
    "    (555)-555-5555\n",
    "    \n",
    "Regex Pattern:\n",
    "    f\"(\\d{3})-\\d{3}-\\d{4}\"\""
   ]
  },
  {
   "cell_type": "code",
   "execution_count": 1,
   "id": "b091db8a",
   "metadata": {},
   "outputs": [],
   "source": [
    "text= \"The agent;s phone number is 408-555-1234. Call soon!\""
   ]
  },
  {
   "cell_type": "code",
   "execution_count": 2,
   "id": "2d93ce52",
   "metadata": {},
   "outputs": [
    {
     "data": {
      "text/plain": [
       "True"
      ]
     },
     "execution_count": 2,
     "metadata": {},
     "output_type": "execute_result"
    }
   ],
   "source": [
    "'phone' in text"
   ]
  },
  {
   "cell_type": "code",
   "execution_count": 3,
   "id": "ed1005ee",
   "metadata": {},
   "outputs": [],
   "source": [
    "import re"
   ]
  },
  {
   "cell_type": "code",
   "execution_count": 4,
   "id": "2f9cb369",
   "metadata": {},
   "outputs": [],
   "source": [
    "pattern = 'phone'"
   ]
  },
  {
   "cell_type": "code",
   "execution_count": 5,
   "id": "ac2c4f63",
   "metadata": {},
   "outputs": [
    {
     "data": {
      "text/plain": [
       "<re.Match object; span=(12, 17), match='phone'>"
      ]
     },
     "execution_count": 5,
     "metadata": {},
     "output_type": "execute_result"
    }
   ],
   "source": [
    "re.search(pattern, text)"
   ]
  },
  {
   "cell_type": "code",
   "execution_count": 6,
   "id": "204e7d7f",
   "metadata": {},
   "outputs": [],
   "source": [
    "patt = 'Not in text'"
   ]
  },
  {
   "cell_type": "code",
   "execution_count": 7,
   "id": "26a5669d",
   "metadata": {},
   "outputs": [],
   "source": [
    "re.search(patt, text)  #Since not output is there so it means not found"
   ]
  },
  {
   "cell_type": "code",
   "execution_count": 8,
   "id": "bdbe6202",
   "metadata": {},
   "outputs": [],
   "source": [
    "text= \"The agent;s phone number is 408-555-1234. Call soon!\"\n",
    "pattern = 'phone'\n",
    "match = re.search(pattern, text)"
   ]
  },
  {
   "cell_type": "code",
   "execution_count": 9,
   "id": "645e0f8a",
   "metadata": {},
   "outputs": [
    {
     "data": {
      "text/plain": [
       "<re.Match object; span=(12, 17), match='phone'>"
      ]
     },
     "execution_count": 9,
     "metadata": {},
     "output_type": "execute_result"
    }
   ],
   "source": [
    "match"
   ]
  },
  {
   "cell_type": "code",
   "execution_count": 10,
   "id": "d1d9d672",
   "metadata": {},
   "outputs": [
    {
     "data": {
      "text/plain": [
       "(12, 17)"
      ]
     },
     "execution_count": 10,
     "metadata": {},
     "output_type": "execute_result"
    }
   ],
   "source": [
    "match.span()"
   ]
  },
  {
   "cell_type": "code",
   "execution_count": 11,
   "id": "0743e7fa",
   "metadata": {},
   "outputs": [
    {
     "data": {
      "text/plain": [
       "17"
      ]
     },
     "execution_count": 11,
     "metadata": {},
     "output_type": "execute_result"
    }
   ],
   "source": [
    "match.end()"
   ]
  },
  {
   "cell_type": "code",
   "execution_count": 12,
   "id": "cef06cd4",
   "metadata": {},
   "outputs": [
    {
     "data": {
      "text/plain": [
       "<re.Match object; span=(3, 8), match='phone'>"
      ]
     },
     "execution_count": 12,
     "metadata": {},
     "output_type": "execute_result"
    }
   ],
   "source": [
    "txt = 'my phone once, my phone twice'\n",
    "match = re.search('phone', txt)\n",
    "match"
   ]
  },
  {
   "cell_type": "code",
   "execution_count": 13,
   "id": "95c073e1",
   "metadata": {},
   "outputs": [],
   "source": [
    "matches = re.findall('my',txt)"
   ]
  },
  {
   "cell_type": "code",
   "execution_count": 14,
   "id": "22d93129",
   "metadata": {},
   "outputs": [
    {
     "data": {
      "text/plain": [
       "['my', 'my']"
      ]
     },
     "execution_count": 14,
     "metadata": {},
     "output_type": "execute_result"
    }
   ],
   "source": [
    "matches"
   ]
  },
  {
   "cell_type": "code",
   "execution_count": 15,
   "id": "cdaf7893",
   "metadata": {},
   "outputs": [
    {
     "data": {
      "text/plain": [
       "2"
      ]
     },
     "execution_count": 15,
     "metadata": {},
     "output_type": "execute_result"
    }
   ],
   "source": [
    "len(matches)"
   ]
  },
  {
   "cell_type": "code",
   "execution_count": 20,
   "id": "79f757f2",
   "metadata": {},
   "outputs": [
    {
     "name": "stdout",
     "output_type": "stream",
     "text": [
      "<re.Match object; span=(3, 8), match='phone'>\n",
      "<re.Match object; span=(18, 23), match='phone'>\n"
     ]
    }
   ],
   "source": [
    "for match in re.finditer('phone', txt):\n",
    "    print(match)"
   ]
  },
  {
   "cell_type": "code",
   "execution_count": 21,
   "id": "500f0b21",
   "metadata": {},
   "outputs": [
    {
     "name": "stdout",
     "output_type": "stream",
     "text": [
      "(3, 8)\n",
      "(18, 23)\n"
     ]
    }
   ],
   "source": [
    "for match in re.finditer('phone', txt):\n",
    "    print(match.span())"
   ]
  },
  {
   "cell_type": "code",
   "execution_count": 22,
   "id": "3d65bd03",
   "metadata": {},
   "outputs": [
    {
     "name": "stdout",
     "output_type": "stream",
     "text": [
      "phone\n",
      "phone\n"
     ]
    }
   ],
   "source": [
    "for match in re.finditer('phone', txt):\n",
    "    print(match.group())"
   ]
  },
  {
   "cell_type": "code",
   "execution_count": null,
   "id": "82cf79e4",
   "metadata": {},
   "outputs": [],
   "source": []
  },
  {
   "cell_type": "markdown",
   "id": "d2fa5b3d",
   "metadata": {},
   "source": [
    "# Character Identifiers:\n",
    "\\d - A digit\n",
    "\n",
    "\\w - Alphanumeric\n",
    "\n",
    "\\s - White space\n",
    "\n",
    "\\D - A non digit\n",
    "\n",
    "\\W - Non-Alphanumeric\n",
    "\n",
    "\\S - Non-whitespace"
   ]
  },
  {
   "cell_type": "code",
   "execution_count": 23,
   "id": "04e955f9",
   "metadata": {},
   "outputs": [],
   "source": [
    "text = 'My phone num is 408-555-1234'"
   ]
  },
  {
   "cell_type": "code",
   "execution_count": 24,
   "id": "88b391ba",
   "metadata": {},
   "outputs": [],
   "source": [
    "phone = re.search('408-555-1234', text)"
   ]
  },
  {
   "cell_type": "code",
   "execution_count": 25,
   "id": "5ee5128f",
   "metadata": {},
   "outputs": [
    {
     "data": {
      "text/plain": [
       "<re.Match object; span=(16, 28), match='408-555-1234'>"
      ]
     },
     "execution_count": 25,
     "metadata": {},
     "output_type": "execute_result"
    }
   ],
   "source": [
    "phone"
   ]
  },
  {
   "cell_type": "code",
   "execution_count": 32,
   "id": "8faf61bc",
   "metadata": {},
   "outputs": [],
   "source": [
    "phone = re.search(r'\\d\\d\\d-\\d\\d\\d-\\d\\d\\d\\d', text)"
   ]
  },
  {
   "cell_type": "code",
   "execution_count": 33,
   "id": "0b340bfa",
   "metadata": {},
   "outputs": [
    {
     "data": {
      "text/plain": [
       "<re.Match object; span=(16, 28), match='408-555-1234'>"
      ]
     },
     "execution_count": 33,
     "metadata": {},
     "output_type": "execute_result"
    }
   ],
   "source": [
    "phone"
   ]
  },
  {
   "cell_type": "code",
   "execution_count": 34,
   "id": "551fa6ae",
   "metadata": {},
   "outputs": [
    {
     "data": {
      "text/plain": [
       "'408-555-1234'"
      ]
     },
     "execution_count": 34,
     "metadata": {},
     "output_type": "execute_result"
    }
   ],
   "source": [
    "phone.group()"
   ]
  },
  {
   "cell_type": "code",
   "execution_count": null,
   "id": "6a17ef97",
   "metadata": {},
   "outputs": [],
   "source": []
  },
  {
   "cell_type": "raw",
   "id": "236c5b2d",
   "metadata": {},
   "source": [
    "#Quantifiers\n",
    "+       - Occurs one or more times \n",
    "{3}     - Occurs exactly 3 times\n",
    "{2,4}   - Occurs 2 to 4 times\n",
    "{3,}    - Occurs 3 or more times\n",
    "*       - Occurs 0 or more times\n",
    "?       - once or none"
   ]
  },
  {
   "cell_type": "code",
   "execution_count": 38,
   "id": "33130bcb",
   "metadata": {},
   "outputs": [],
   "source": [
    "phone = re.search(r'\\d{3}-\\d{3}-\\d{4}', text)"
   ]
  },
  {
   "cell_type": "code",
   "execution_count": 39,
   "id": "2334c8c6",
   "metadata": {},
   "outputs": [
    {
     "data": {
      "text/plain": [
       "<re.Match object; span=(16, 28), match='408-555-1234'>"
      ]
     },
     "execution_count": 39,
     "metadata": {},
     "output_type": "execute_result"
    }
   ],
   "source": [
    "phone"
   ]
  },
  {
   "cell_type": "code",
   "execution_count": 40,
   "id": "747015bb",
   "metadata": {},
   "outputs": [],
   "source": [
    "phone_pattern = re.compile(r'(\\d{3})-(\\d{3})-(\\d{4})')"
   ]
  },
  {
   "cell_type": "code",
   "execution_count": 43,
   "id": "31e1c047",
   "metadata": {},
   "outputs": [],
   "source": [
    "results = re.search(phone_pattern, text)"
   ]
  },
  {
   "cell_type": "code",
   "execution_count": 44,
   "id": "a513ab37",
   "metadata": {},
   "outputs": [
    {
     "data": {
      "text/plain": [
       "'408-555-1234'"
      ]
     },
     "execution_count": 44,
     "metadata": {},
     "output_type": "execute_result"
    }
   ],
   "source": [
    "results.group()"
   ]
  },
  {
   "cell_type": "code",
   "execution_count": 46,
   "id": "d7d3f1ea",
   "metadata": {},
   "outputs": [
    {
     "name": "stdout",
     "output_type": "stream",
     "text": [
      "408\n",
      "555\n",
      "1234\n"
     ]
    }
   ],
   "source": [
    "print(results.group(1))\n",
    "print(results.group(2))\n",
    "print(results.group(3))"
   ]
  },
  {
   "cell_type": "markdown",
   "id": "e6f43269",
   "metadata": {},
   "source": [
    "# Additional Operators"
   ]
  },
  {
   "cell_type": "code",
   "execution_count": 48,
   "id": "0dcdd2ca",
   "metadata": {},
   "outputs": [
    {
     "data": {
      "text/plain": [
       "<re.Match object; span=(4, 7), match='cat'>"
      ]
     },
     "execution_count": 48,
     "metadata": {},
     "output_type": "execute_result"
    }
   ],
   "source": [
    "re.search(r'cat|dog', 'The cat is in van')"
   ]
  },
  {
   "cell_type": "code",
   "execution_count": 50,
   "id": "43c553d2",
   "metadata": {},
   "outputs": [
    {
     "data": {
      "text/plain": [
       "['cat', 'hat', 'sat']"
      ]
     },
     "execution_count": 50,
     "metadata": {},
     "output_type": "execute_result"
    }
   ],
   "source": [
    "re.findall(r'.at', 'The cat is in hat sat there.')"
   ]
  },
  {
   "cell_type": "code",
   "execution_count": 51,
   "id": "fb48abc5",
   "metadata": {},
   "outputs": [
    {
     "data": {
      "text/plain": [
       "['e cat', 'n hat', 'splat']"
      ]
     },
     "execution_count": 51,
     "metadata": {},
     "output_type": "execute_result"
    }
   ],
   "source": [
    "re.findall(r'...at', 'The cat is in hat sat splat there.')"
   ]
  },
  {
   "cell_type": "code",
   "execution_count": 55,
   "id": "6e9dcef8",
   "metadata": {},
   "outputs": [
    {
     "data": {
      "text/plain": [
       "['1']"
      ]
     },
     "execution_count": 55,
     "metadata": {},
     "output_type": "execute_result"
    }
   ],
   "source": [
    "re.findall(r'^\\d','1 is a number') #To check if the number is the staring part of text"
   ]
  },
  {
   "cell_type": "code",
   "execution_count": 56,
   "id": "9105512e",
   "metadata": {},
   "outputs": [
    {
     "data": {
      "text/plain": [
       "[]"
      ]
     },
     "execution_count": 56,
     "metadata": {},
     "output_type": "execute_result"
    }
   ],
   "source": [
    "re.findall(r'^\\d','it starts with 1 is a number') "
   ]
  },
  {
   "cell_type": "code",
   "execution_count": 58,
   "id": "d82ccdbe",
   "metadata": {},
   "outputs": [
    {
     "data": {
      "text/plain": [
       "['5']"
      ]
     },
     "execution_count": 58,
     "metadata": {},
     "output_type": "execute_result"
    }
   ],
   "source": [
    "re.findall(r'\\d$','it ends with a number 5') "
   ]
  },
  {
   "cell_type": "code",
   "execution_count": 60,
   "id": "97332171",
   "metadata": {},
   "outputs": [],
   "source": [
    "phrase = \"There are 3 numbers 34 inside 5 this sentence\""
   ]
  },
  {
   "cell_type": "code",
   "execution_count": 64,
   "id": "ab8a3657",
   "metadata": {},
   "outputs": [],
   "source": [
    "pattern = r'[^\\d]'"
   ]
  },
  {
   "cell_type": "code",
   "execution_count": 65,
   "id": "e71ec897",
   "metadata": {},
   "outputs": [
    {
     "data": {
      "text/plain": [
       "['T',\n",
       " 'h',\n",
       " 'e',\n",
       " 'r',\n",
       " 'e',\n",
       " ' ',\n",
       " 'a',\n",
       " 'r',\n",
       " 'e',\n",
       " ' ',\n",
       " ' ',\n",
       " 'n',\n",
       " 'u',\n",
       " 'm',\n",
       " 'b',\n",
       " 'e',\n",
       " 'r',\n",
       " 's',\n",
       " ' ',\n",
       " ' ',\n",
       " 'i',\n",
       " 'n',\n",
       " 's',\n",
       " 'i',\n",
       " 'd',\n",
       " 'e',\n",
       " ' ',\n",
       " ' ',\n",
       " 't',\n",
       " 'h',\n",
       " 'i',\n",
       " 's',\n",
       " ' ',\n",
       " 's',\n",
       " 'e',\n",
       " 'n',\n",
       " 't',\n",
       " 'e',\n",
       " 'n',\n",
       " 'c',\n",
       " 'e']"
      ]
     },
     "execution_count": 65,
     "metadata": {},
     "output_type": "execute_result"
    }
   ],
   "source": [
    "re.findall(pattern, phrase)"
   ]
  },
  {
   "cell_type": "code",
   "execution_count": 70,
   "id": "7a751be2",
   "metadata": {},
   "outputs": [],
   "source": [
    "cl = re.findall(pattern, phrase)"
   ]
  },
  {
   "cell_type": "code",
   "execution_count": 71,
   "id": "d4e7d128",
   "metadata": {},
   "outputs": [
    {
     "data": {
      "text/plain": [
       "'T h e r e   a r e     n u m b e r s     i n s i d e     t h i s   s e n t e n c e'"
      ]
     },
     "execution_count": 71,
     "metadata": {},
     "output_type": "execute_result"
    }
   ],
   "source": [
    "' '.join(cl)"
   ]
  },
  {
   "cell_type": "code",
   "execution_count": 66,
   "id": "db7a2e4c",
   "metadata": {},
   "outputs": [],
   "source": [
    "patt = r'[^\\d]+'"
   ]
  },
  {
   "cell_type": "code",
   "execution_count": 67,
   "id": "e080aa88",
   "metadata": {},
   "outputs": [
    {
     "data": {
      "text/plain": [
       "['There are ', ' numbers ', ' inside ', ' this sentence']"
      ]
     },
     "execution_count": 67,
     "metadata": {},
     "output_type": "execute_result"
    }
   ],
   "source": [
    "re.findall(patt, phrase)"
   ]
  },
  {
   "cell_type": "code",
   "execution_count": 68,
   "id": "0d502077",
   "metadata": {},
   "outputs": [],
   "source": [
    "test = 'This is a string! But it has punctuation. How can we say remove it?'"
   ]
  },
  {
   "cell_type": "code",
   "execution_count": 69,
   "id": "31deedb1",
   "metadata": {},
   "outputs": [
    {
     "data": {
      "text/plain": [
       "['This is a string', ' But it has punctuation', ' How can we say remove it']"
      ]
     },
     "execution_count": 69,
     "metadata": {},
     "output_type": "execute_result"
    }
   ],
   "source": [
    "re.findall(r'[^!.?]+', test)"
   ]
  },
  {
   "cell_type": "code",
   "execution_count": 72,
   "id": "d9f1d35a",
   "metadata": {},
   "outputs": [],
   "source": [
    "txt = \"find only hyphen-words in this sentence. But you don't know how long-ish they are\""
   ]
  },
  {
   "cell_type": "code",
   "execution_count": 73,
   "id": "59d29bdb",
   "metadata": {},
   "outputs": [],
   "source": [
    "pat = r'[\\w]+'"
   ]
  },
  {
   "cell_type": "code",
   "execution_count": 74,
   "id": "39c6242e",
   "metadata": {},
   "outputs": [
    {
     "data": {
      "text/plain": [
       "['find',\n",
       " 'only',\n",
       " 'hyphen',\n",
       " 'words',\n",
       " 'in',\n",
       " 'this',\n",
       " 'sentence',\n",
       " 'But',\n",
       " 'you',\n",
       " 'don',\n",
       " 't',\n",
       " 'know',\n",
       " 'how',\n",
       " 'long',\n",
       " 'ish',\n",
       " 'they',\n",
       " 'are']"
      ]
     },
     "execution_count": 74,
     "metadata": {},
     "output_type": "execute_result"
    }
   ],
   "source": [
    "re.findall(pat, txt)"
   ]
  },
  {
   "cell_type": "code",
   "execution_count": 75,
   "id": "35c6bf2a",
   "metadata": {},
   "outputs": [],
   "source": [
    "pat = r'[\\w]+-[\\w]+'"
   ]
  },
  {
   "cell_type": "code",
   "execution_count": 76,
   "id": "84e86081",
   "metadata": {},
   "outputs": [
    {
     "data": {
      "text/plain": [
       "['hyphen-words', 'long-ish']"
      ]
     },
     "execution_count": 76,
     "metadata": {},
     "output_type": "execute_result"
    }
   ],
   "source": [
    "re.findall(pat, txt)"
   ]
  },
  {
   "cell_type": "code",
   "execution_count": 77,
   "id": "630a8620",
   "metadata": {},
   "outputs": [],
   "source": [
    "t1 = \"Hello, would you like some catfish\"\n",
    "t2 = \"Hello, would you like some catsnap\"\n",
    "t3 = \"Hello, would you like some caterpillar\""
   ]
  },
  {
   "cell_type": "code",
   "execution_count": 79,
   "id": "80d8fbab",
   "metadata": {},
   "outputs": [
    {
     "data": {
      "text/plain": [
       "<re.Match object; span=(27, 34), match='catsnap'>"
      ]
     },
     "execution_count": 79,
     "metadata": {},
     "output_type": "execute_result"
    }
   ],
   "source": [
    "re.search(r'cat(fish|snap|claw)', t2)"
   ]
  },
  {
   "cell_type": "code",
   "execution_count": null,
   "id": "c3d684d3",
   "metadata": {},
   "outputs": [],
   "source": []
  }
 ],
 "metadata": {
  "kernelspec": {
   "display_name": "Python 3 (ipykernel)",
   "language": "python",
   "name": "python3"
  },
  "language_info": {
   "codemirror_mode": {
    "name": "ipython",
    "version": 3
   },
   "file_extension": ".py",
   "mimetype": "text/x-python",
   "name": "python",
   "nbconvert_exporter": "python",
   "pygments_lexer": "ipython3",
   "version": "3.11.5"
  }
 },
 "nbformat": 4,
 "nbformat_minor": 5
}
