{
 "cells": [
  {
   "cell_type": "code",
   "execution_count": 7,
   "id": "9ae38267",
   "metadata": {},
   "outputs": [
    {
     "name": "stdout",
     "output_type": "stream",
     "text": [
      "Empty Heap\n",
      "[10, 12, 25, 34, 43, 56, 60, 78, 80]\n"
     ]
    }
   ],
   "source": [
    "class Heap:\n",
    "    def __init__(self):\n",
    "        self.heap = []\n",
    "        \n",
    "    def create_heap(self, list1):\n",
    "        for i in list1:\n",
    "            self.insert(i)\n",
    "    \n",
    "    def insert(self, i):\n",
    "        index = len(self.heap)\n",
    "        parentIndex = (index - 1)//2\n",
    "        while index>0 and self.heap[parentIndex] < i:\n",
    "            if index == len(self.heap):\n",
    "                self.heap.append(self.heap[parentIndex])\n",
    "            else:\n",
    "                self.heap[index] = self.heap[parentIndex]\n",
    "            index = parentIndex\n",
    "            parentIndex = (index - 1)//2\n",
    "        if index == len(self.heap):\n",
    "            self.heap.append(i)\n",
    "        else:\n",
    "            self.heap[index] = i\n",
    "            \n",
    "    def top(self):\n",
    "        if len(self.heap) == 0:\n",
    "            print(\"Empty Heap\")\n",
    "        return self.heap[0]\n",
    "        \n",
    "    def delete(self):\n",
    "        if len(self.heap) == 0:\n",
    "            print(\"Empty Heap\")\n",
    "        if len(self.heap) == 1:\n",
    "            return self.heap.pop()\n",
    "        max_val = self.heap[0]\n",
    "        temp = self.heap.pop()\n",
    "        index = 0\n",
    "        leftChildIndex = 2*index + 1\n",
    "        rightChildIndex = 2*index + 2\n",
    "            \n",
    "        while leftChildIndex<len(self.heap):\n",
    "            if rightChildIndex<len(self.heap):\n",
    "                if self.heap[leftChildIndex] > self.heap[rightChildIndex]:\n",
    "                    if self.heap[leftChildIndex] > temp:\n",
    "                        self.heap[index] = self.heap[leftChildIndex]\n",
    "                        index = leftChildIndex\n",
    "                    else:\n",
    "                        break\n",
    "                else:\n",
    "                    if self.heap[rightChildIndex] > temp:\n",
    "                        self.heap[index] = self.heap[rightChildIndex]\n",
    "                        index = rightChildIndex\n",
    "                    else:\n",
    "                        break\n",
    "            else:   #No RightChild \n",
    "                if self.heap[leftChildIndex] > temp:\n",
    "                    self.heap[index] = self.heap[leftChildIndex]\n",
    "                    index = leftChildIndex\n",
    "                else:\n",
    "                    break\n",
    "            leftChildIndex = 2*index + 1\n",
    "            rightChildIndex = 2*index + 2\n",
    "        self.heap[index] = temp\n",
    "        return max_val\n",
    "        \n",
    "    def heapSort(self, list1):\n",
    "        self.create_heap(list1)\n",
    "        list2 = []\n",
    "        try:\n",
    "            while True:\n",
    "                list2.insert(0, self.delete())\n",
    "        except IndexError:\n",
    "            return list2 \n",
    "        \n",
    "list1 = [34,56,12,78,43,25,10,80,60]\n",
    "h = Heap()\n",
    "list1 = h.heapSort(list1)\n",
    "print(list1)"
   ]
  },
  {
   "cell_type": "code",
   "execution_count": null,
   "id": "17c16749",
   "metadata": {},
   "outputs": [],
   "source": []
  }
 ],
 "metadata": {
  "kernelspec": {
   "display_name": "Python 3 (ipykernel)",
   "language": "python",
   "name": "python3"
  },
  "language_info": {
   "codemirror_mode": {
    "name": "ipython",
    "version": 3
   },
   "file_extension": ".py",
   "mimetype": "text/x-python",
   "name": "python",
   "nbconvert_exporter": "python",
   "pygments_lexer": "ipython3",
   "version": "3.11.5"
  }
 },
 "nbformat": 4,
 "nbformat_minor": 5
}
