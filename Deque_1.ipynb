{
 "cells": [
  {
   "cell_type": "markdown",
   "id": "cc4a4674",
   "metadata": {},
   "source": [
    "# Deque using list"
   ]
  },
  {
   "cell_type": "code",
   "execution_count": 5,
   "id": "d6b49fc6",
   "metadata": {},
   "outputs": [
    {
     "name": "stdout",
     "output_type": "stream",
     "text": [
      "10\n",
      "70\n",
      "20\n",
      "60\n",
      "3\n"
     ]
    }
   ],
   "source": [
    "class Deque:\n",
    "    def __init__(self):\n",
    "        self.items = []\n",
    "        \n",
    "    def is_empty(self):\n",
    "        return len(self.items) == 0\n",
    "    \n",
    "    def insert_front(self,data):\n",
    "        self.items.insert(0,data)\n",
    "        \n",
    "    def insert_rear(self,data):\n",
    "        self.items.append(data)\n",
    "        \n",
    "    def delete_front(self):\n",
    "        if not self.is_empty():\n",
    "            self.items.pop(0)\n",
    "        else:\n",
    "            raise IndexError(\"Dque Underflow\")\n",
    "    \n",
    "    def delete_rear(self):\n",
    "        if not self.is_empty():\n",
    "            self.items.pop()\n",
    "        else:\n",
    "            raise IndexError(\"Dque Underflow\")\n",
    "            \n",
    "    def get_front(self):\n",
    "        if not self.is_empty():\n",
    "            return self.items[0]\n",
    "        else:\n",
    "            raise IndexError(\"Dque Underflow\")\n",
    "            \n",
    "    def get_rear(self):\n",
    "        if not self.is_empty():\n",
    "            return self.items[-1]\n",
    "        else:\n",
    "            raise IndexError(\"Dque Underflow\")\n",
    "            \n",
    "    def size(self):\n",
    "        return len(self.items)\n",
    "    \n",
    "d1 = Deque()\n",
    "d1.insert_front(30)\n",
    "d1.insert_front(20)\n",
    "d1.insert_front(10)\n",
    "d1.insert_rear(60)\n",
    "d1.insert_rear(70)\n",
    "print(d1.get_front())\n",
    "print(d1.get_rear())\n",
    "d1.delete_front()\n",
    "d1.delete_rear()\n",
    "print(d1.get_front())\n",
    "print(d1.get_rear())\n",
    "print(d1.size())"
   ]
  },
  {
   "cell_type": "code",
   "execution_count": null,
   "id": "190d3066",
   "metadata": {},
   "outputs": [],
   "source": []
  }
 ],
 "metadata": {
  "kernelspec": {
   "display_name": "Python 3 (ipykernel)",
   "language": "python",
   "name": "python3"
  },
  "language_info": {
   "codemirror_mode": {
    "name": "ipython",
    "version": 3
   },
   "file_extension": ".py",
   "mimetype": "text/x-python",
   "name": "python",
   "nbconvert_exporter": "python",
   "pygments_lexer": "ipython3",
   "version": "3.11.5"
  }
 },
 "nbformat": 4,
 "nbformat_minor": 5
}
