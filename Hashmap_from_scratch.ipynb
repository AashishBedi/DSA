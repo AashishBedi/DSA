{
 "cells": [
  {
   "cell_type": "code",
   "execution_count": 6,
   "id": "ab7bc8f3",
   "metadata": {},
   "outputs": [
    {
     "name": "stdout",
     "output_type": "stream",
     "text": [
      "0\n",
      "2\n",
      "search with key\n",
      "10\n",
      "rmv\n",
      "10\n",
      "search\n",
      "None\n"
     ]
    }
   ],
   "source": [
    "class MapNode:\n",
    "    def __init__(self,key,value):\n",
    "        self.key = key\n",
    "        self.value = value\n",
    "        self.next = None\n",
    "        \n",
    "class Map:\n",
    "    def __init__(self):\n",
    "        self.bucketsize = 10\n",
    "        self.bucket = [None for i in range(self.bucketsize)]\n",
    "        self.count = 0\n",
    "        \n",
    "    def size(self):\n",
    "        return self.count\n",
    "    \n",
    "    def getindex(self, hc):\n",
    "        return (abs(hc)%self.bucketsize)\n",
    "    \n",
    "    def insert(self, key, value):\n",
    "        hc = hash(key)\n",
    "        index = self.getindex(hc)\n",
    "        head = self.bucket[index]\n",
    "        while head is not None:\n",
    "            if head.key == key:\n",
    "                head.value = value\n",
    "                return\n",
    "            head = head.next\n",
    "        newNode = MapNode(key,value)\n",
    "        newNode.next = head\n",
    "        self.bucket[index] = newNode\n",
    "        self.count += 1\n",
    "        \n",
    "    def getvalue(self, key):\n",
    "        hc = hash(key)\n",
    "        index = self.getindex(hc)\n",
    "        head = self.bucket[index]\n",
    "        while head is not None:\n",
    "            if head.key == key:\n",
    "                return head.value\n",
    "            head = head.next\n",
    "        return None\n",
    "    \n",
    "    def remove(self,key):\n",
    "        hc = hash(key)\n",
    "        index = self.getindex(hc)\n",
    "        head = self.bucket[index]\n",
    "        prev = None\n",
    "        while head is not None:\n",
    "            if head.key == key:\n",
    "                if prev is None:\n",
    "                    self.bucket[index] = head.next\n",
    "                else:\n",
    "                    prev.next = heaad.next\n",
    "                self.count -= 1\n",
    "                return head.value\n",
    "            prev = head\n",
    "            head = head.next\n",
    "        return None\n",
    "\n",
    "\n",
    "m = Map()\n",
    "print(m.size())\n",
    "m.insert(\"abhi\", 10)\n",
    "m.insert(\"11\", 14)\n",
    "print(m.size())\n",
    "print(\"search with key\")\n",
    "print(m.getvalue(\"abhi\"))\n",
    "print(\"rmv\")\n",
    "print(m.remove(\"abhi\"))\n",
    "print(\"search\")\n",
    "print(m.getvalue(\"abhi\"))"
   ]
  },
  {
   "cell_type": "code",
   "execution_count": null,
   "id": "abc93485",
   "metadata": {},
   "outputs": [],
   "source": []
  }
 ],
 "metadata": {
  "kernelspec": {
   "display_name": "Python 3 (ipykernel)",
   "language": "python",
   "name": "python3"
  },
  "language_info": {
   "codemirror_mode": {
    "name": "ipython",
    "version": 3
   },
   "file_extension": ".py",
   "mimetype": "text/x-python",
   "name": "python",
   "nbconvert_exporter": "python",
   "pygments_lexer": "ipython3",
   "version": "3.11.5"
  }
 },
 "nbformat": 4,
 "nbformat_minor": 5
}
