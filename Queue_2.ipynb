{
 "cells": [
  {
   "cell_type": "markdown",
   "id": "464dffa4",
   "metadata": {},
   "source": [
    "# Queue using singly linked list"
   ]
  },
  {
   "cell_type": "code",
   "execution_count": 7,
   "id": "40b7c5be",
   "metadata": {},
   "outputs": [
    {
     "name": "stdout",
     "output_type": "stream",
     "text": [
      "20 50\n",
      "20 30 40 50 \n"
     ]
    }
   ],
   "source": [
    "class Node:\n",
    "    def __init__(self,item = None, next = None):\n",
    "        self.item = item\n",
    "        self.next = next\n",
    "\n",
    "class Queue:\n",
    "    def __init__(self):\n",
    "        self.front = None\n",
    "        self.rear = None\n",
    "        self.item_count = 0\n",
    "        \n",
    "    def is_empty(self):\n",
    "        return self.item_count == 0\n",
    "    \n",
    "    def enqueue(self,data):\n",
    "        n = Node(data)\n",
    "        if self.is_empty():\n",
    "            self.front = n   \n",
    "        else:\n",
    "            self.rear.next = n\n",
    "        self.rear = n   \n",
    "        self.item_count += 1\n",
    "        \n",
    "    def dequeue(self):\n",
    "        if self.is_empty():\n",
    "            raise IndexError(\"Empty Queue\")\n",
    "        elif self.front==self.rear:\n",
    "            self.front = None\n",
    "            self.rear = None\n",
    "        else:\n",
    "            self.front = self.front.next\n",
    "        self.item_count -= 1\n",
    "        \n",
    "    def get_front(self):\n",
    "        if self.is_empty():\n",
    "            raise IndexError(\"Empty Queue\")\n",
    "        else:\n",
    "            return self.front.item\n",
    "        \n",
    "    def get_rear(self):\n",
    "        if self.is_empty():\n",
    "            raise IndexError(\"Empty Queue\")\n",
    "        else:\n",
    "            return self.rear.item\n",
    "        \n",
    "    def size():\n",
    "        return self.item_count\n",
    "    \n",
    "    def print_queue(self):\n",
    "        current = self.front\n",
    "        while current:\n",
    "            print(current.item, end = \" \")\n",
    "            current = current.next\n",
    "        print()\n",
    "    \n",
    "q = Queue()\n",
    "q.enqueue(10)\n",
    "q.enqueue(20)\n",
    "q.enqueue(30)\n",
    "q.enqueue(40)\n",
    "q.enqueue(50)\n",
    "q.dequeue()\n",
    "print(q.get_front(), q.get_rear())\n",
    "q.print_queue()"
   ]
  },
  {
   "cell_type": "code",
   "execution_count": null,
   "id": "48aeec2f",
   "metadata": {},
   "outputs": [],
   "source": []
  }
 ],
 "metadata": {
  "kernelspec": {
   "display_name": "Python 3 (ipykernel)",
   "language": "python",
   "name": "python3"
  },
  "language_info": {
   "codemirror_mode": {
    "name": "ipython",
    "version": 3
   },
   "file_extension": ".py",
   "mimetype": "text/x-python",
   "name": "python",
   "nbconvert_exporter": "python",
   "pygments_lexer": "ipython3",
   "version": "3.11.5"
  }
 },
 "nbformat": 4,
 "nbformat_minor": 5
}
