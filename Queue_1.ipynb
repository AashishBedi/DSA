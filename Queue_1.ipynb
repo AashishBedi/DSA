{
 "cells": [
  {
   "cell_type": "markdown",
   "id": "381f4823",
   "metadata": {},
   "source": [
    "# Queue using list"
   ]
  },
  {
   "cell_type": "code",
   "execution_count": 12,
   "id": "663ef975",
   "metadata": {},
   "outputs": [
    {
     "name": "stdout",
     "output_type": "stream",
     "text": [
      "Latest element: 50\n",
      "Oldest element: 20\n",
      "Size of Queue is: 4\n",
      "<__main__.Queue object at 0x0000020F53FD7ED0>\n"
     ]
    }
   ],
   "source": [
    "class Queue:\n",
    "    def __init__(self):\n",
    "        self.items = []\n",
    "        \n",
    "    def is_empty(self):\n",
    "        return len(self.items) == 0\n",
    "    \n",
    "    def enqueue(self,data):\n",
    "        self.items.append(data)\n",
    "        \n",
    "    def dequeue(self):\n",
    "        if not self.is_empty():\n",
    "            self.items.pop(0)\n",
    "        else:\n",
    "            raise IndexError(\"Queue Underflow\")\n",
    "        \n",
    "    def get_front(self):\n",
    "        if not self.is_empty():\n",
    "            return self.items[0]\n",
    "        else:\n",
    "            raise IndexError(\"Queue is empty\")\n",
    "            \n",
    "    def get_rear(self):\n",
    "        if not self.is_empty():\n",
    "            return self.items[-1]\n",
    "        else:\n",
    "            raise IndexError(\"Queue is empty\")\n",
    "            \n",
    "    def size(self):\n",
    "        return len(self.items)\n",
    "    \n",
    "q1 = Queue()\n",
    "q1.enqueue(10)\n",
    "q1.enqueue(20)\n",
    "q1.enqueue(30)\n",
    "q1.enqueue(40)\n",
    "q1.enqueue(50)\n",
    "q1.dequeue()\n",
    "print(\"Latest element:\",q1.get_rear())\n",
    "print(\"Oldest element:\",q1.get_front())\n",
    "print(\"Size of Queue is:\",q1.size())\n",
    "print(q1)"
   ]
  },
  {
   "cell_type": "code",
   "execution_count": null,
   "id": "44469a0f",
   "metadata": {},
   "outputs": [],
   "source": []
  }
 ],
 "metadata": {
  "kernelspec": {
   "display_name": "Python 3 (ipykernel)",
   "language": "python",
   "name": "python3"
  },
  "language_info": {
   "codemirror_mode": {
    "name": "ipython",
    "version": 3
   },
   "file_extension": ".py",
   "mimetype": "text/x-python",
   "name": "python",
   "nbconvert_exporter": "python",
   "pygments_lexer": "ipython3",
   "version": "3.11.5"
  }
 },
 "nbformat": 4,
 "nbformat_minor": 5
}
