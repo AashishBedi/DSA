{
 "cells": [
  {
   "cell_type": "markdown",
   "id": "9d10efc5",
   "metadata": {},
   "source": [
    "# Inheriting list class"
   ]
  },
  {
   "cell_type": "code",
   "execution_count": 8,
   "id": "db08c6e0",
   "metadata": {},
   "outputs": [
    {
     "name": "stdout",
     "output_type": "stream",
     "text": [
      "[50, 10, 40]\n",
      "[10, 50]\n",
      "Top value=  50\n"
     ]
    }
   ],
   "source": [
    "class Stack(list):\n",
    "    def is_empty(self):\n",
    "        return len(self) == 0\n",
    "    def push(self,data):\n",
    "        self.append(data)\n",
    "    def pop(self):\n",
    "        if not self.is_empty():\n",
    "            return super().pop()\n",
    "        else:\n",
    "            raise IndexError(\"Stack is empty\")\n",
    "    def peek(self):\n",
    "        if not self.is_empty():\n",
    "            return self[-1]\n",
    "        else:\n",
    "            raise IndexError(\"Stack is empty\")\n",
    "    def size(self):\n",
    "        return len(self)\n",
    "    def insert(self,index,data):\n",
    "        raise AttributeError(\"No attribute 'insert' in Stack\")\n",
    "\n",
    "s1 = Stack()\n",
    "s1.push(50)\n",
    "s1.push(10)\n",
    "s1.push(40)\n",
    "print(s1)\n",
    "s1.pop()\n",
    "s1.sort()\n",
    "print(s1)\n",
    "print(\"Top value= \",  s1.peek())"
   ]
  },
  {
   "cell_type": "code",
   "execution_count": null,
   "id": "d6a66218",
   "metadata": {},
   "outputs": [],
   "source": []
  }
 ],
 "metadata": {
  "kernelspec": {
   "display_name": "Python 3 (ipykernel)",
   "language": "python",
   "name": "python3"
  },
  "language_info": {
   "codemirror_mode": {
    "name": "ipython",
    "version": 3
   },
   "file_extension": ".py",
   "mimetype": "text/x-python",
   "name": "python",
   "nbconvert_exporter": "python",
   "pygments_lexer": "ipython3",
   "version": "3.11.5"
  }
 },
 "nbformat": 4,
 "nbformat_minor": 5
}
