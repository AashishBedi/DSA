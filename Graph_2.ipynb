{
 "cells": [
  {
   "cell_type": "markdown",
   "id": "f40d1b57",
   "metadata": {},
   "source": [
    "# Adjacency List"
   ]
  },
  {
   "cell_type": "code",
   "execution_count": 6,
   "id": "a751e626",
   "metadata": {},
   "outputs": [
    {
     "name": "stdout",
     "output_type": "stream",
     "text": [
      "V 0 : [(1, 1)]\n",
      "V 1 : [(0, 1), (2, 1), (3, 1)]\n",
      "V 2 : [(1, 1), (3, 1)]\n",
      "V 3 : [(1, 1), (2, 1), (4, 1)]\n",
      "V 4 : [(3, 1)]\n"
     ]
    }
   ],
   "source": [
    "class Graph:\n",
    "    def __init__(self, vno):\n",
    "        self.vertex_count = vno\n",
    "        self.adj_list = {v: [] for v in range(vno)}\n",
    "        \n",
    "    def add_edge(self, u, v, weight = 1):\n",
    "        if 0 <= u < self.vertex_count and 0 <= v < self.vertex_count:\n",
    "            self.adj_list[u].append((v, weight))\n",
    "            self.adj_list[v].append((u, weight))\n",
    "        else:\n",
    "            print(\"Invalid vertex\")\n",
    "            \n",
    "    def remove_edge(self, u, v, weight = 1):\n",
    "        if 0 <= u < self.vertex_count and 0 <= v < self.vertex_count:\n",
    "            self.adj_list[u] = [(vertex, weight) for vertex, weight in self.adj_list[u] if vertex != v]\n",
    "            self.adj_list[v] = [(vertex, weight) for vertex, weight in self.adj_list[v] if vertex != u]\n",
    "        else:\n",
    "            print(\"Invalid vertex\")\n",
    "    \n",
    "    def has_edge(self, u, v):\n",
    "        if 0 <= u < self.vertex_count and 0 <= v < self.vertex_count:\n",
    "            return any(vertex == v for vertex, x in self.adj_list[u])\n",
    "        else:\n",
    "            print(\"Invalid vertex\")\n",
    "            \n",
    "    def print_adj_list(self):\n",
    "        for vertex, n in self.adj_list.items():\n",
    "            print(\"V\",vertex,\":\",n)\n",
    "            \n",
    "g = Graph(5)\n",
    "g.add_edge(0,1)\n",
    "g.add_edge(1,2)\n",
    "g.add_edge(1,3)\n",
    "g.add_edge(2,3)\n",
    "g.add_edge(3,4)\n",
    "\n",
    "g.print_adj_list()"
   ]
  },
  {
   "cell_type": "code",
   "execution_count": null,
   "id": "5a40bee2",
   "metadata": {},
   "outputs": [],
   "source": []
  }
 ],
 "metadata": {
  "kernelspec": {
   "display_name": "Python 3 (ipykernel)",
   "language": "python",
   "name": "python3"
  },
  "language_info": {
   "codemirror_mode": {
    "name": "ipython",
    "version": 3
   },
   "file_extension": ".py",
   "mimetype": "text/x-python",
   "name": "python",
   "nbconvert_exporter": "python",
   "pygments_lexer": "ipython3",
   "version": "3.11.5"
  }
 },
 "nbformat": 4,
 "nbformat_minor": 5
}
