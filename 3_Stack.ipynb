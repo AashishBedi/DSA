{
 "cells": [
  {
   "cell_type": "markdown",
   "id": "8a9b6de5",
   "metadata": {},
   "source": [
    "# Stack using Linked List Concept"
   ]
  },
  {
   "cell_type": "code",
   "execution_count": 7,
   "id": "8174bbff",
   "metadata": {},
   "outputs": [
    {
     "name": "stdout",
     "output_type": "stream",
     "text": [
      "Total elements:  3\n",
      "<__main__.Stack object at 0x000001C95553A7D0>\n",
      "30\n",
      "20\n"
     ]
    }
   ],
   "source": [
    "class Node:\n",
    "    def __init__(self,item=None,next=None):\n",
    "        self.item = item\n",
    "        self.next = next\n",
    "class Stack:\n",
    "    def __init__(self):\n",
    "        self.top = None\n",
    "        self.item_count = 0\n",
    "    def is_empty(self):\n",
    "        return self.top == None\n",
    "    def push(self,data):\n",
    "        n = Node(data, self.top)\n",
    "        self.top = n\n",
    "        self.item_count += 1\n",
    "    def pop(self):\n",
    "        if not self.is_empty():\n",
    "            data = self.top.item\n",
    "            self.top = self.top.next\n",
    "            self.item_count -= 1\n",
    "            return data\n",
    "        else:\n",
    "            raise IndexError(\"Stackk Underflow\")\n",
    "    def peek(self):\n",
    "        if not self.is_empty():\n",
    "            return self.top.item\n",
    "        else:\n",
    "            raise self.is_empty()\n",
    "    def size(self):\n",
    "        return self.item_count\n",
    "\n",
    "s1 = Stack()\n",
    "s1.push(10)\n",
    "s1.push(20)\n",
    "s1.push(30)\n",
    "print(\"Total elements: \",s1.size())\n",
    "print(s1)\n",
    "print(s1.peek())\n",
    "s1.pop()\n",
    "print(s1.peek())"
   ]
  },
  {
   "cell_type": "code",
   "execution_count": null,
   "id": "6b08cb34",
   "metadata": {},
   "outputs": [],
   "source": []
  }
 ],
 "metadata": {
  "kernelspec": {
   "display_name": "Python 3 (ipykernel)",
   "language": "python",
   "name": "python3"
  },
  "language_info": {
   "codemirror_mode": {
    "name": "ipython",
    "version": 3
   },
   "file_extension": ".py",
   "mimetype": "text/x-python",
   "name": "python",
   "nbconvert_exporter": "python",
   "pygments_lexer": "ipython3",
   "version": "3.11.5"
  }
 },
 "nbformat": 4,
 "nbformat_minor": 5
}
