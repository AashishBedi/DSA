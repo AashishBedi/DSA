{
 "cells": [
  {
   "cell_type": "markdown",
   "id": "bfc21dfc",
   "metadata": {},
   "source": [
    "# Using list"
   ]
  },
  {
   "cell_type": "code",
   "execution_count": 3,
   "id": "76159131",
   "metadata": {},
   "outputs": [
    {
     "name": "stdout",
     "output_type": "stream",
     "text": [
      "<__main__.PriorityQueue object at 0x0000021548B3EC50>\n"
     ]
    }
   ],
   "source": [
    "class PriorityQueue:\n",
    "    def __init__(self):\n",
    "        self.items = []\n",
    "    def push(self,data,priority):\n",
    "        index = 0\n",
    "        while index<len(self.items) and self.items[index][1] <= priority:\n",
    "            index += 1\n",
    "        self.items.insert(index,(data, priority))\n",
    "        \n",
    "    def is_empty(self):\n",
    "        return len(self.items)\n",
    "        \n",
    "    def pop(self):\n",
    "        if self.is_empty():\n",
    "            raise IndexError(\"P Queue is empty\")\n",
    "        return self.items.pop(0)[0]\n",
    "        \n",
    "    def size(self):\n",
    "        return len(self.items)\n",
    "    \n",
    "pq = PriorityQueue()\n",
    "pq.push(\"Aa\",2)\n",
    "pq.push(\"Ar\",4)\n",
    "pq.push(\"Ab\",3)\n",
    "pq.push(\"Bb\",1)\n",
    "\n",
    "while not pq.is_empty():\n",
    "    print(pq.pop())\n",
    "    "
   ]
  },
  {
   "cell_type": "code",
   "execution_count": null,
   "id": "b008e3ff",
   "metadata": {},
   "outputs": [],
   "source": []
  }
 ],
 "metadata": {
  "kernelspec": {
   "display_name": "Python 3 (ipykernel)",
   "language": "python",
   "name": "python3"
  },
  "language_info": {
   "codemirror_mode": {
    "name": "ipython",
    "version": 3
   },
   "file_extension": ".py",
   "mimetype": "text/x-python",
   "name": "python",
   "nbconvert_exporter": "python",
   "pygments_lexer": "ipython3",
   "version": "3.11.5"
  }
 },
 "nbformat": 4,
 "nbformat_minor": 5
}
